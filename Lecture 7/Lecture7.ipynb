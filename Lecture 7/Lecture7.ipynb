{
 "cells": [
  {
   "cell_type": "code",
   "execution_count": null,
   "metadata": {
    "ExecuteTime": {
     "end_time": "2023-12-07T03:57:13.326675235Z",
     "start_time": "2023-12-07T03:57:13.079880093Z"
    },
    "colab": {
     "base_uri": "https://localhost:8080/"
    },
    "id": "rNtIg80UwtSS",
    "outputId": "2fd53393-6c78-45f0-975f-a193987b6348"
   },
   "outputs": [],
   "source": [
    "!pip install pennylane\n",
    "!pip install pennylane-qiskit\n",
    "%matplotlib inline\n"
   ]
  },
  {
   "cell_type": "markdown",
   "metadata": {
    "collapsed": false,
    "id": "Gqu8dxZswtSU",
    "jupyter": {
     "outputs_hidden": false
    }
   },
   "source": [
    "# PennyLane\n",
    "![image](https://github.com/osbama/Phys710/blob/master/Lecture%207/header-tall.png?raw=1)\n",
    "\n",
    "PennyLane is a cross-platform Python library for differentiable programming of quantum computers. Train a quantum computer the same way as a neural network.\n",
    "\n",
    "It has the following features:\n",
    "\n",
    "* Follow the gradient. Built-in automatic differentiation of quantum circuits.\n",
    "* Best of both worlds. Support for hybrid quantum and classical models; connect quantum hardware with PyTorch, TensorFlow, and NumPy.\n",
    "* Just in time compilation. Compile your entire hybrid workflow, with support for adaptive circuits, real-time measurement feedback, unbounded loops, and more. See Catalyst for more details.\n",
    "* Batteries included. Provides optimization and machine learning tools.\n",
    "* Device-independent. The same quantum circuit model can be run on different backends. Install plugins to access even more devices, including Strawberry Fields, Amazon Braket, IBM Q, Google Cirq, Rigetti Forest, Microsoft QDK, and ProjectQ.\n",
    "\n",
    "In this lecture, I'll ask you to install PennyLane, and PennyLane-Qiskit plugin. It is possible to enable the Aer GPU backend if you have `qiskit-aer-gpu`, though it is not guaranteed that it will work across all use-cases. (make sure to install cuQuantum if you intend to do so)"
   ]
  },
  {
   "cell_type": "markdown",
   "metadata": {
    "id": "PcoXu0YmwtSU"
   },
   "source": [
    "# Graph Machine Learning\n",
    "\n",
    "A graph is defined as a set of *nodes* along with a set of **edges**, which represent connections between nodes. Information can be encoded into graphs by assigning numbers to nodes and edges, which we call **weights**. It is usually convenient to think of a graph visually:\n",
    "\n",
    "![image](https://github.com/osbama/Phys710/blob/master/Lecture%207/graph4.png?raw=1)\n",
    "\n",
    "In recent years, the concept of a [graph neural network](https://arxiv.org/abs/1812.08434) (GNN) has been receiving a lot of attention from the machine learning community. A GNN seeks to learn a representation (a mapping of data into a low-dimensional vector space) of a given graph with feature vectors assigned to nodes and edges. Each of the vectors in the learned representation preserves not only the features, but also the overall topology of the graph, i.e., which nodes are connected by edges. The quantum graph neural network attempts to do something similar, but for features that are quantum-mechanical; for instance, a collection of quantum states.\n",
    "\n",
    "Though what kind of problems revolve around graphs? Imagine these tasks:\n",
    "* Given the traffic data across American cities, what is the predicted traffic in New York City tomorrow (node classification)?\n",
    "* Knowing the network of LinkedIn connections, how likely is it that Henry has already met Terry (link prediction)?\n",
    "* Given a molecule, what is its’ probability of being toxic (global graph level prediction)?\n",
    "\n",
    "\n",
    "![image](https://github.com/osbama/Phys710/blob/master/Lecture%207/GNN_tasks.png?raw=1)\n",
    "\n",
    "The objective of graph neural network is to predict certain properties of given graph-structured data. For the sake of exposition, we say that all graph-based tasks fall under the following 3 buckets (see above tasks for corresponding examples):\n",
    "1. Node-level — predicting some property for each node in a graph\n",
    "2. Edge-level — predicting the property or presence of edges in a graph\n",
    "3. Graph-level — predicting a property for a whole graph\n",
    "\n",
    "\n",
    "For a more concise walkthrough on Graph Neural Networks, please check [A Gentle Introduction to Graph Neural Networks](https://distill.pub/2021/gnn-intro/)\n",
    "\n",
    "\n"
   ]
  },
  {
   "cell_type": "markdown",
   "metadata": {
    "collapsed": false,
    "id": "X87tSHjYwtSU",
    "jupyter": {
     "outputs_hidden": false
    }
   },
   "source": [
    "# Graph Machine Learning meets High Energy Physics\n",
    "\n",
    "Each collision event in the Large Hadron Collider spawns tens of thousands of particles flying outwards. When these particles pass through the layered detectors, they create signals in the detector called hits. We can expect around 80,000 detector hits from each collision event.\n",
    "\n",
    "![image](https://github.com/osbama/Phys710/blob/master/Lecture%207/CERN_jet.png?raw=1)\n",
    "\n",
    "Right now, computational algorithms for particle reconstruction manage at the current rate of collisions but they suffer from higher collision rates as they scale worse than quadratically (ex. $O(n^6)$ ). However, CERN is currently upgrading the LHC to have a higher number of particles in each beam (high luminosity) meaning that each collision will spawn even more particles and set off more hits. Scientists realize that the current algorithms will become unwieldy to utilize with the upcoming High Luminosity LHC experiments. ** So, the efficient reconstruction of particle trajectories is one of the most important challenges in the HL-LHC upgrade. an intensive problem.**\n",
    "\n",
    "\n",
    "## Graph problem formulation and motivation for graph neural networks\n",
    "\n",
    "A simple reframing makes it clear how this problem lives squarely within graph theory land.\n",
    "\n",
    "Think of each detector hit as a node. Then each connection between adjacent layers hits as candidate edges. From here the particle reconstruction problem can be reformulated from a graph perspective as follows.\n",
    "\n",
    "![image](https://github.com/osbama/Phys710/blob/master/Lecture%207/QGNN_particle.png?raw=1)\n",
    "\n",
    "see: Tüysüz, C., Rieger, C., Novotny, K. et al. Hybrid quantum classical graph neural networks for particle track reconstruction. Quantum Mach. Intell. 3, 29 (2021). https://doi.org/10.1007/s42484-021-00055-9\n",
    "\n",
    "\n"
   ]
  },
  {
   "cell_type": "markdown",
   "metadata": {
    "collapsed": false,
    "id": "ft_cbk0_wtSU",
    "jupyter": {
     "outputs_hidden": false
    }
   },
   "source": [
    "# The Quantum Graph Recurrent Neural Network\n",
    "\n",
    "\n",
    "This demonstration investigates quantum graph recurrent neural networks (QGRNN), which are the quantum analogue of a classical graph recurrent neural network, and a subclass of the more general quantum graph neural network ansatz. Both the QGNN and QGRNN were introduced in this paper [2](https://arxiv.org/abs/1909.12264)."
   ]
  },
  {
   "cell_type": "markdown",
   "metadata": {
    "id": "pLZtkLc4wtSV"
   },
   "source": [
    "Consider the class of qubit Hamiltonians that are *quadratic*, meaning that the terms of the Hamiltonian represent either interactions between two qubits, or the energy of individual qubits. This class of Hamiltonians is naturally described by graphs, with second-order terms between qubits corresponding to weighted edges between nodes, and first-order terms corresponding to node weights. A well known example of a quadratic Hamiltonian is the transverse-field Ising model, which is defined as\n",
    "\n",
    "$$\\hat{H}_{\\text{Ising}}(\\boldsymbol\\theta) \\ = \\ \\displaystyle\\sum_{(i, j) \\in E}\n",
    "\\theta_{ij}^{(1)} Z_{i} Z_{j} \\ + \\ \\displaystyle\\sum_{i} \\theta_{i}^{(2)} Z_{i} \\ + \\\n",
    "\\displaystyle\\sum_{i} X_{i},$$\n",
    "\n",
    "where $\\boldsymbol\\theta \\ = \\ \\{\\theta^{(1)}, \\ \\theta^{(2)}\\}$. In this Hamiltonian, the set $E$ that determines which pairs of qubits have $ZZ$ interactions can be represented by the set of edges for some graph. With the qubits as nodes, this graph is called the *interaction graph*. The $\\theta^{(1)}$ parameters correspond to the edge weights and the $\\theta^{(2)}$ parameters correspond to weights on the nodes.\n"
   ]
  },
  {
   "cell_type": "markdown",
   "metadata": {
    "id": "7mf97FiuwtSV"
   },
   "source": [
    "This result implies that we can think about *quantum circuits* with graph-theoretic properties. Recall that the time-evolution operator with respect to some Hamiltonian $H$ is defined as:\n",
    "\n",
    "$$U \\ = \\ e^{-it H}.$$\n",
    "\n",
    "Thus, we have a clean way of taking quadratic Hamiltonians and turning them into unitaries (quantum circuits) that preserve the same correspondance to a graph. In the case of the Ising Hamiltonian, we have:\n",
    "\n",
    "$$U_{\\text{Ising}} \\ = \\ e^{-it \\hat{H}_{\\text{Ising}} (\\boldsymbol\\theta)} \\ = \\ \\exp \\Big[ -it\n",
    "\\Big( \\displaystyle\\sum_{(i, j) \\in E} \\theta_{ij}^{(1)} Z_{i} Z_{j} \\ + \\\n",
    "\\displaystyle\\sum_{i} \\theta_{i}^{(2)} Z_{i} \\ + \\ \\displaystyle\\sum_{i} X_{i} \\Big) \\Big]$$\n",
    "\n",
    "In general, this kind of unitary is very difficult to implement on a quantum computer. However, we can approximate it using the [Trotter-Suzuki decomposition](https://en.wikipedia.org/wiki/Time-evolving_block_decimation#The_Suzuki-Trotter_expansion):\n",
    "\n",
    "$$\\exp \\Big[ -it \\Big( \\displaystyle\\sum_{(i, j) \\in E} \\theta_{ij}^{(1)} Z_{i} Z_{j} \\ + \\\n",
    "\\displaystyle\\sum_{i} \\theta_{i}^{(2)} Z_{i} \\ + \\ \\displaystyle\\sum_{i} X_{i} \\Big) \\Big]\n",
    "\\ \\approx \\ \\displaystyle\\prod_{k \\ = \\ 1}^{t / \\Delta} \\Bigg[ \\displaystyle\\prod_{j \\ = \\\n",
    "1}^{Q} e^{-i \\Delta \\hat{H}_{\\text{Ising}}^{j}(\\boldsymbol\\theta)} \\Bigg]$$\n",
    "\n",
    "where $\\hat{H}_{\\text{Ising}}^{j}(\\boldsymbol\\theta)$ is the $j$-th term of the Ising Hamiltonian and $\\Delta$ is some small number.\n",
    "\n",
    "This circuit is a specific instance of the **Quantum Graph Recurrent Neural Network**, which in general is defined as a variational ansatz of the form\n",
    "\n",
    "$$U_{H}(\\boldsymbol\\mu, \\ \\boldsymbol\\gamma) \\ = \\ \\displaystyle\\prod_{i \\ = \\ 1}^{P} \\Bigg[\n",
    "\\displaystyle\\prod_{j \\ = \\ 1}^{Q} e^{-i \\gamma_j H^{j}(\\boldsymbol\\mu)} \\Bigg],$$\n",
    "\n",
    "for some parametrized quadratic Hamiltonian, $H(\\boldsymbol\\mu)$.\n"
   ]
  },
  {
   "cell_type": "markdown",
   "metadata": {
    "id": "v8d79YsdwtSV"
   },
   "source": [
    "Using the QGRNN\n",
    "===============\n"
   ]
  },
  {
   "cell_type": "markdown",
   "metadata": {
    "id": "rW_ta8n3wtSV"
   },
   "source": [
    "Since the QGRNN ansatz is equivalent to the approximate time evolution of some quadratic Hamiltonian, we can use it to learn the dynamics of a quantum system.\n",
    "\n",
    "Continuing with the Ising model example, let\\'s imagine we have some system governed by $\\hat{H}_{\\text{Ising}}(\\boldsymbol\\alpha)$ for an unknown set of target parameters, $\\boldsymbol\\alpha$ and an unknown interaction graph $G$. Let\\'s also suppose we have access to copies of some low-energy, non-ground state of the target Hamiltonian, $|\\psi_0\\rangle$. In addition, we have access to a collection of time-evolved states, $\\{ |\\psi(t_1)\\rangle, \\ |\\psi(t_2)\\rangle, \\ ..., \\ |\\psi(t_N)\\rangle \\}$, defined by:\n",
    "\n",
    "$$|\\psi(t_k)\\rangle \\ = \\ e^{-i t_k \\hat{H}_{\\text{Ising}}(\\boldsymbol\\alpha)} |\\psi_0\\rangle.$$\n",
    "\n",
    "We call the low-energy states and the collection of time-evolved states *quantum data*. From here, we randomly pick a number of time-evolved states from our collection. For any state that we choose, which is evolved to some time $t_k$, we compare it to\n",
    "\n",
    "$$U_{\\hat{H}_{\\text{Ising}}}(\\boldsymbol\\mu, \\ \\Delta) |\\psi_0\\rangle \\ \\approx \\ e^{-i t_k\n",
    "\\hat{H}_{\\text{Ising}}(\\boldsymbol\\mu)} |\\psi_0\\rangle.$$\n",
    "\n",
    "This is done by feeding one of the copies of $|\\psi_0\\rangle$ into a quantum circuit with the QGRNN ansatz, with some guessed set of parameters $\\boldsymbol\\mu$ and a guessed interaction graph, $G'$. We then use a classical optimizer to maximize the average \\\"similarity\\\" between the time-evolved states and the states prepared with the QGRNN.\n",
    "\n",
    "As the QGRNN states becomes more similar to each time-evolved state for each sampled time, it follows that $\\boldsymbol\\mu \\ \\rightarrow \\ \\boldsymbol\\alpha$ and we are able to learn the unknown parameters of the Hamiltonian.\n",
    "\n",
    "![A visual representation of one execution of the QGRNN for one piece of quantum data.](https://github.com/osbama/Phys710/blob/master/Lecture%207/qgrnn3.png?raw=1){.align-center width=\"90.0%\"}\n"
   ]
  },
  {
   "cell_type": "markdown",
   "metadata": {
    "id": "sUooxQYywtSW"
   },
   "source": [
    "Learning an Ising Model with the QGRNN\n",
    "======================================\n"
   ]
  },
  {
   "cell_type": "markdown",
   "metadata": {
    "id": "FCKUQHlbwtSW"
   },
   "source": [
    "We now attempt to use the QGRNN to learn the parameters corresponding to an arbitrary transverse-field Ising model Hamiltonian.\n"
   ]
  },
  {
   "cell_type": "markdown",
   "metadata": {
    "id": "hQw6XhCDwtSW"
   },
   "source": [
    "Getting Started\n",
    "===============\n"
   ]
  },
  {
   "cell_type": "markdown",
   "metadata": {
    "id": "uyCldHx5wtSW"
   },
   "source": [
    "We begin by importing the necessary dependencies:\n"
   ]
  },
  {
   "cell_type": "code",
   "execution_count": null,
   "metadata": {
    "ExecuteTime": {
     "end_time": "2023-12-07T03:57:13.626972779Z",
     "start_time": "2023-12-07T03:57:13.330367689Z"
    },
    "id": "OUHKi5ttwtSX"
   },
   "outputs": [],
   "source": [
    "import pennylane as qml\n",
    "from matplotlib import pyplot as plt\n",
    "from pennylane import numpy as np\n",
    "import scipy\n",
    "import networkx as nx\n",
    "import copy"
   ]
  },
  {
   "cell_type": "markdown",
   "metadata": {
    "id": "pK0l13yMwtSX"
   },
   "source": [
    "We also define some fixed values that are used throughout the simulation.\n"
   ]
  },
  {
   "cell_type": "code",
   "execution_count": null,
   "metadata": {
    "ExecuteTime": {
     "end_time": "2023-12-07T03:57:13.636990562Z",
     "start_time": "2023-12-07T03:57:13.628529900Z"
    },
    "id": "e0QLhsHiwtSX"
   },
   "outputs": [],
   "source": [
    "qubit_number = 4\n",
    "qubits = range(qubit_number)"
   ]
  },
  {
   "cell_type": "markdown",
   "metadata": {
    "id": "p9IfkiQwwtSX"
   },
   "source": [
    "In this simulation, we don\\'t have quantum data readily available to pass into the QGRNN, so we have to generate it ourselves. To do this, we must have knowledge of the target interaction graph and the target Hamiltonian.\n",
    "\n",
    "Let us use the following cyclic graph as the target interaction graph of the Ising Hamiltonian:\n"
   ]
  },
  {
   "cell_type": "code",
   "execution_count": null,
   "metadata": {
    "ExecuteTime": {
     "end_time": "2023-12-07T03:57:13.770273751Z",
     "start_time": "2023-12-07T03:57:13.630458339Z"
    },
    "colab": {
     "base_uri": "https://localhost:8080/",
     "height": 553
    },
    "id": "GXyHhNWcwtSX",
    "outputId": "8298e978-3b15-4267-d509-4cef21d18035"
   },
   "outputs": [],
   "source": [
    "ising_graph = nx.cycle_graph(qubit_number)\n",
    "\n",
    "print(f\"Edges: {ising_graph.edges}\")\n",
    "nx.draw(ising_graph)"
   ]
  },
  {
   "cell_type": "markdown",
   "metadata": {
    "id": "LuBwU3VjwtSY"
   },
   "source": [
    "We can then initialize the \"unknown\" target parameters that describe the target Hamiltonian, $\\boldsymbol\\alpha \\ = \\ \\{\\alpha^{(1)}, \\ \\alpha^{(2)}\\}$. Recall from the introduction that we have defined our parametrized Ising Hamiltonian to be of the form:\n",
    "\n",
    "$$\\hat{H}_{\\text{Ising}}(\\boldsymbol\\theta) \\ = \\ \\displaystyle\\sum_{(i, j) \\in E}\n",
    "\\theta_{ij}^{(1)} Z_{i} Z_{j} \\ + \\ \\displaystyle\\sum_{i} \\theta_{i}^{(2)} Z_{i} \\ + \\\n",
    "\\displaystyle\\sum_{i} X_{i},$$\n",
    "\n",
    "where $E$ is the set of edges in the interaction graph, and $X_i$ and $Z_i$ are the Pauli-X and Pauli-Z on the $i$-th qubit.\n",
    "\n",
    "For this tutorial, we choose the target parameters by sampling from a uniform probability distribution ranging from $-2$ to $2$, with two-decimal precision.\n"
   ]
  },
  {
   "cell_type": "code",
   "execution_count": null,
   "metadata": {
    "ExecuteTime": {
     "end_time": "2023-12-07T03:57:13.771504423Z",
     "start_time": "2023-12-07T03:57:13.770016320Z"
    },
    "id": "fd5x57FhwtSY"
   },
   "outputs": [],
   "source": [
    "target_weights = [0.56, 1.24, 1.67, -0.79]\n",
    "target_bias = [-1.44, -1.43, 1.18, -0.93]"
   ]
  },
  {
   "cell_type": "markdown",
   "metadata": {
    "id": "wNew0p1cwtSY"
   },
   "source": [
    "In theory, these parameters can be any value we want, provided they are reasonably small enough that the QGRNN can reach them in a tractable number of optimization steps. In `matrix_params`, the first list represents the $ZZ$ interaction parameters and the second list represents the single-qubit $Z$ parameters.\n",
    "\n",
    "Finally, we use this information to generate the matrix form of the Ising model Hamiltonian in the computational basis:\n"
   ]
  },
  {
   "cell_type": "code",
   "execution_count": null,
   "metadata": {
    "ExecuteTime": {
     "end_time": "2023-12-07T03:57:13.996355769Z",
     "start_time": "2023-12-07T03:57:13.774042523Z"
    },
    "colab": {
     "base_uri": "https://localhost:8080/",
     "height": 457
    },
    "id": "BJjv6BmDwtSY",
    "outputId": "4cf0d84c-375f-4e02-8e34-92547bc6d98a"
   },
   "outputs": [],
   "source": [
    "def create_hamiltonian_matrix(n_qubits, graph, weights, bias):\n",
    "\n",
    "    full_matrix = np.zeros((2 ** n_qubits, 2 ** n_qubits))\n",
    "\n",
    "    # Creates the interaction component of the Hamiltonian\n",
    "    for i, edge in enumerate(graph.edges):\n",
    "        interaction_term = 1\n",
    "        for qubit in range(0, n_qubits):\n",
    "            if qubit in edge:\n",
    "                interaction_term = np.kron(interaction_term, qml.matrix(qml.PauliZ)(0))\n",
    "            else:\n",
    "                interaction_term = np.kron(interaction_term, np.identity(2))\n",
    "        full_matrix += weights[i] * interaction_term\n",
    "\n",
    "    # Creates the bias components of the matrix\n",
    "    for i in range(0, n_qubits):\n",
    "        z_term = x_term = 1\n",
    "        for j in range(0, n_qubits):\n",
    "            if j == i:\n",
    "                z_term = np.kron(z_term, qml.matrix(qml.PauliZ)(0))\n",
    "                x_term = np.kron(x_term, qml.matrix(qml.PauliX)(0))\n",
    "            else:\n",
    "                z_term = np.kron(z_term, np.identity(2))\n",
    "                x_term = np.kron(x_term, np.identity(2))\n",
    "        full_matrix += bias[i] * z_term + x_term\n",
    "\n",
    "    return full_matrix\n",
    "\n",
    "\n",
    "# Prints a visual representation of the Hamiltonian matrix\n",
    "ham_matrix = create_hamiltonian_matrix(qubit_number, ising_graph, target_weights, target_bias)\n",
    "plt.matshow(ham_matrix, cmap=\"hot\")\n",
    "plt.show()"
   ]
  },
  {
   "cell_type": "markdown",
   "metadata": {
    "id": "RDloo-oowtSY"
   },
   "source": [
    "Preparing Quantum Data\n",
    "======================\n"
   ]
  },
  {
   "cell_type": "markdown",
   "metadata": {
    "id": "xoMAAPkQwtSY"
   },
   "source": [
    "The collection of quantum data needed to run the QGRNN has two components: (i) copies of a low-energy state, and (ii) a collection of time-evolved states, each of which are simply the low-energy state evolved to different times. The following is a low-energy state of the target Hamiltonian:\n"
   ]
  },
  {
   "cell_type": "code",
   "execution_count": null,
   "metadata": {
    "ExecuteTime": {
     "end_time": "2023-12-07T03:57:13.996607651Z",
     "start_time": "2023-12-07T03:57:13.974420762Z"
    },
    "id": "8ZVzlmX3wtSY"
   },
   "outputs": [],
   "source": [
    "low_energy_state = [\n",
    "    (-0.054661080280306085 + 0.016713907320174026j),\n",
    "    (0.12290003656489545 - 0.03758500591109822j),\n",
    "    (0.3649337966440005 - 0.11158863596657455j),\n",
    "    (-0.8205175732627094 + 0.25093231967092877j),\n",
    "    (0.010369790825776609 - 0.0031706387262686003j),\n",
    "    (-0.02331544978544721 + 0.007129899300113728j),\n",
    "    (-0.06923183949694546 + 0.0211684344103713j),\n",
    "    (0.15566094863283836 - 0.04760201916285508j),\n",
    "    (0.014520590919500158 - 0.004441887836078486j),\n",
    "    (-0.032648113364535575 + 0.009988590222879195j),\n",
    "    (-0.09694382811137187 + 0.02965579457620536j),\n",
    "    (0.21796861485652747 - 0.06668776658411019j),\n",
    "    (-0.0027547112135013247 + 0.0008426289322652901j),\n",
    "    (0.006193695872468649 - 0.0018948418969390599j),\n",
    "    (0.018391279795405405 - 0.005625722994009138j),\n",
    "    (-0.041350974715649635 + 0.012650711602265649j),\n",
    "]"
   ]
  },
  {
   "cell_type": "markdown",
   "metadata": {
    "id": "QDkWDRc-wtSY"
   },
   "source": [
    "This state can be obtained by using a decoupled version of the \"Variational Quantum Eigensolver\" algorithm (VQE). Essentially, we choose a VQE ansatz such that the circuit cannot learn the exact ground state, but it can get fairly close. Another way to arrive at the same result is to perform VQE with a reasonable ansatz, but to terminate the algorithm before it converges to the ground state. If we used the exact ground state $|\\psi_0\\rangle$, the time-dependence would be trivial and the data would not provide enough information about the Hamiltonian parameters.\n",
    "\n",
    "We can verify that this is a low-energy state by numerically finding the lowest eigenvalue of the Hamiltonian and comparing it to the energy expectation of this low-energy state:\n"
   ]
  },
  {
   "cell_type": "code",
   "execution_count": null,
   "metadata": {
    "ExecuteTime": {
     "end_time": "2023-12-07T03:57:13.996846123Z",
     "start_time": "2023-12-07T03:57:13.974586357Z"
    },
    "colab": {
     "base_uri": "https://localhost:8080/"
    },
    "id": "pKckvCkMwtSY",
    "outputId": "3dd71e23-6332-4234-c9bc-0e601bdf3f74"
   },
   "outputs": [],
   "source": [
    "res = np.vdot(low_energy_state, (ham_matrix @ low_energy_state))\n",
    "energy_exp = np.real_if_close(res)\n",
    "print(f\"Energy Expectation: {energy_exp}\")\n",
    "\n",
    "\n",
    "ground_state_energy = np.real_if_close(min(np.linalg.eig(ham_matrix)[0]))\n",
    "print(f\"Ground State Energy: {ground_state_energy}\")"
   ]
  },
  {
   "cell_type": "markdown",
   "metadata": {
    "id": "3RhygUNTwtSZ"
   },
   "source": [
    "We have in fact found a low-energy, non-ground state, as the energy expectation is slightly greater than the energy of the true ground state. This, however, is only half of the information we need. We also require a collection of time-evolved, low-energy states. Evolving the low-energy state forward in time is fairly straightforward: all we have to do is multiply the initial state by a time-evolution unitary. This operation can be defined as a custom gate in PennyLane:\n"
   ]
  },
  {
   "cell_type": "code",
   "execution_count": null,
   "metadata": {
    "ExecuteTime": {
     "end_time": "2023-12-07T03:57:13.996969029Z",
     "start_time": "2023-12-07T03:57:13.974685353Z"
    },
    "id": "JKZbgZtYwtSZ"
   },
   "outputs": [],
   "source": [
    "def state_evolve(hamiltonian, qubits, time):\n",
    "\n",
    "    U = scipy.linalg.expm(-1j * hamiltonian * time)\n",
    "    qml.QubitUnitary(U, wires=qubits)"
   ]
  },
  {
   "cell_type": "markdown",
   "metadata": {
    "id": "yZ5Y-IjQwtSZ"
   },
   "source": [
    "We don\\'t actually generate time-evolved quantum data quite yet, but we now have all the pieces required for its preparation.\n"
   ]
  },
  {
   "cell_type": "markdown",
   "metadata": {
    "id": "r1UMMuh8wtSZ"
   },
   "source": [
    "Learning the Hamiltonian\n",
    "========================\n"
   ]
  },
  {
   "cell_type": "markdown",
   "metadata": {
    "id": "_k0rMRlawtSZ"
   },
   "source": [
    "With the quantum data defined, we are able to construct the QGRNN and learn the target Hamiltonian. Each of the exponentiated Hamiltonians in the QGRNN ansatz, $\\hat{H}^{j}_{\\text{Ising}}(\\boldsymbol\\mu)$, are the $ZZ$, $Z$, and $X$ terms from the Ising Hamiltonian. This gives:\n"
   ]
  },
  {
   "cell_type": "code",
   "execution_count": null,
   "metadata": {
    "ExecuteTime": {
     "end_time": "2023-12-07T03:57:14.049027795Z",
     "start_time": "2023-12-07T03:57:13.974767911Z"
    },
    "id": "ijdd7yz1wtSZ"
   },
   "outputs": [],
   "source": [
    "def qgrnn_layer(weights, bias, qubits, graph, trotter_step):\n",
    "\n",
    "    # Applies a layer of RZZ gates (based on a graph)\n",
    "    for i, edge in enumerate(graph.edges):\n",
    "        qml.MultiRZ(2 * weights[i] * trotter_step, wires=(edge[0], edge[1]))\n",
    "\n",
    "    # Applies a layer of RZ gates\n",
    "    for i, qubit in enumerate(qubits):\n",
    "        qml.RZ(2 * bias[i] * trotter_step, wires=qubit)\n",
    "\n",
    "    # Applies a layer of RX gates\n",
    "    for qubit in qubits:\n",
    "        qml.RX(2 * trotter_step, wires=qubit)"
   ]
  },
  {
   "cell_type": "markdown",
   "metadata": {
    "id": "Nd4ve7hWwtSZ"
   },
   "source": [
    "As was mentioned in the first section, the QGRNN has two registers. In one register, some piece of quantum data $|\\psi(t)\\rangle$ is prepared and in the other we have $U_{H}(\\boldsymbol\\mu, \\ \\Delta) |\\psi_0\\rangle$. We need a way to measure the similarity between these states. This can be done by using the fidelity, which is simply the modulus squared of the inner product\n",
    "between the states, $| \\langle \\psi(t) | U_{H}(\\Delta, \\ \\boldsymbol\\mu) |\\psi_0\\rangle |^2$. To calculate this value, we use a [SWAP test](https://en.wikipedia.org/wiki/Swap_test) between the registers:\n"
   ]
  },
  {
   "cell_type": "code",
   "execution_count": null,
   "metadata": {
    "ExecuteTime": {
     "end_time": "2023-12-07T03:57:14.057612743Z",
     "start_time": "2023-12-07T03:57:14.018400082Z"
    },
    "id": "DkqyWJ9swtSZ"
   },
   "outputs": [],
   "source": [
    "def swap_test(control, register1, register2):\n",
    "\n",
    "    qml.Hadamard(wires=control)\n",
    "    for reg1_qubit, reg2_qubit in zip(register1, register2):\n",
    "        qml.CSWAP(wires=(control, reg1_qubit, reg2_qubit))\n",
    "    qml.Hadamard(wires=control)"
   ]
  },
  {
   "cell_type": "markdown",
   "metadata": {
    "id": "MgGD6nMQwtSZ"
   },
   "source": [
    "After performing this procedure, the value returned from a measurement of the circuit is $\\langle Z \\rangle$, with respect to the `control` qubit. The probability of measuring the $|0\\rangle$ state in this\n",
    "control qubit is related to both the fidelity between registers and $\\langle Z \\rangle$. Thus, with a bit of algebra, we find that $\\langle Z \\rangle$ is equal to the fidelity.\n",
    "\n",
    "Before creating the full QGRNN and the cost function, we define a few more fixed values. Among these is a \\\"guessed\\\" interaction graph, which we set to be a [complete graph](https://en.wikipedia.org/wiki/Complete_graph). This choice is motivated by the fact that any target interaction graph will be a subgraph of this initial guess. Part of the idea behind the QGRNN is\n",
    "that we don't know the interaction graph, and it has to be learned. In this case, the graph is learned *automatically* as the target parameters are optimized. The $\\boldsymbol\\mu$ parameters that correspond to edges that don\\'t exist in the target graph will simply approach $0$.\n"
   ]
  },
  {
   "cell_type": "code",
   "execution_count": null,
   "metadata": {
    "ExecuteTime": {
     "end_time": "2023-12-07T03:57:14.068156871Z",
     "start_time": "2023-12-07T03:57:14.018607016Z"
    },
    "colab": {
     "base_uri": "https://localhost:8080/",
     "height": 553
    },
    "id": "h_Qqh6pDwtSa",
    "outputId": "02c18a43-915e-4e23-a11b-c8fb28651c55"
   },
   "outputs": [],
   "source": [
    "# Defines some fixed values\n",
    "\n",
    "reg1 = tuple(range(qubit_number))  # First qubit register\n",
    "reg2 = tuple(range(qubit_number, 2 * qubit_number))  # Second qubit register\n",
    "\n",
    "control = 2 * qubit_number  # Index of control qubit\n",
    "trotter_step = 0.01  # Trotter step size\n",
    "\n",
    "# Defines the interaction graph for the new qubit system\n",
    "\n",
    "new_ising_graph = nx.complete_graph(reg2)\n",
    "\n",
    "print(f\"Edges: {new_ising_graph.edges}\")\n",
    "nx.draw(new_ising_graph)"
   ]
  },
  {
   "cell_type": "markdown",
   "metadata": {
    "id": "-DUL4TVtwtSa"
   },
   "source": [
    "With this done, we implement the QGRNN circuit for some given time value:\n"
   ]
  },
  {
   "cell_type": "code",
   "execution_count": null,
   "metadata": {
    "ExecuteTime": {
     "end_time": "2023-12-07T03:57:14.121366039Z",
     "start_time": "2023-12-07T03:57:14.065482115Z"
    },
    "id": "0TIMIGH6wtSa"
   },
   "outputs": [],
   "source": [
    "def qgrnn(weights, bias, time=None):\n",
    "\n",
    "    # Prepares the low energy state in the two registers\n",
    "    qml.StatePrep(np.kron(low_energy_state, low_energy_state), wires=reg1 + reg2)\n",
    "\n",
    "    # Evolves the first qubit register with the time-evolution circuit to\n",
    "    # prepare a piece of quantum data\n",
    "    state_evolve(ham_matrix, reg1, time)\n",
    "\n",
    "    # Applies the QGRNN layers to the second qubit register\n",
    "    depth = time / trotter_step  # P = t/Delta\n",
    "    for _ in range(0, int(depth)):\n",
    "        qgrnn_layer(weights, bias, reg2, new_ising_graph, trotter_step)\n",
    "\n",
    "    # Applies the SWAP test between the registers\n",
    "    swap_test(control, reg1, reg2)\n",
    "\n",
    "    # Returns the results of the SWAP test\n",
    "    return qml.expval(qml.PauliZ(control))"
   ]
  },
  {
   "cell_type": "markdown",
   "metadata": {
    "id": "VSlJVPm9wtSa"
   },
   "source": [
    "We have the full QGRNN circuit, but we still need to define a cost function. We know that $| \\langle \\psi(t) | U_{H}(\\boldsymbol\\mu, \\ \\Delta) |\\psi_0\\rangle |^2$ approaches $1$ as the states become more similar and approaches $0$ as the states become orthogonal. Thus, we choose to minimize the quantity $-| \\langle \\psi(t) | U_{H}(\\boldsymbol\\mu, \\ \\Delta) |\\psi_0\\rangle |^2$.\n",
    "Since we are interested in calculating this value for many different pieces of quantum data, the final cost function is the average negative fidelity\\* between registers:\n",
    "\n",
    "$$\\mathcal{L}(\\boldsymbol\\mu, \\ \\Delta) \\ = \\ - \\frac{1}{N} \\displaystyle\\sum_{i \\ = \\ 1}^{N} |\n",
    "\\langle \\psi(t_i) | \\ U_{H}(\\boldsymbol\\mu, \\ \\Delta) \\ |\\psi_0\\rangle |^2,$$\n",
    "\n",
    "where we use $N$ pieces of quantum data.\n",
    "\n",
    "Before creating the cost function, we must define a few more fixed variables:\n"
   ]
  },
  {
   "cell_type": "code",
   "execution_count": null,
   "metadata": {
    "ExecuteTime": {
     "end_time": "2023-12-07T03:57:14.129291369Z",
     "start_time": "2023-12-07T03:57:14.106401902Z"
    },
    "id": "3HTXoxsZwtSa"
   },
   "outputs": [],
   "source": [
    "N = 15  # The number of pieces of quantum data that are used for each step\n",
    "max_time = 0.1  # The maximum value of time that can be used for quantum data"
   ]
  },
  {
   "cell_type": "markdown",
   "metadata": {
    "id": "Hb0zCdoFwtSb"
   },
   "source": [
    "We then define the negative fidelity cost function:\n"
   ]
  },
  {
   "cell_type": "code",
   "execution_count": null,
   "metadata": {
    "ExecuteTime": {
     "end_time": "2023-12-07T03:57:14.129487432Z",
     "start_time": "2023-12-07T03:57:14.106626265Z"
    },
    "id": "WAI730NFwtSb"
   },
   "outputs": [],
   "source": [
    "rng = np.random.default_rng(seed=42)\n",
    "\n",
    "def cost_function(weight_params, bias_params):\n",
    "\n",
    "    # Randomly samples times at which the QGRNN runs\n",
    "    times_sampled = rng.random(size=N) * max_time\n",
    "\n",
    "    # Cycles through each of the sampled times and calculates the cost\n",
    "    total_cost = 0\n",
    "    for dt in times_sampled:\n",
    "        result = qgrnn_qnode(weight_params, bias_params, time=dt)\n",
    "        total_cost += -1 * result\n",
    "\n",
    "    return total_cost / N"
   ]
  },
  {
   "cell_type": "markdown",
   "metadata": {
    "id": "z6U16lpZwtSb"
   },
   "source": [
    "Next we set up for optimization. Here we can even use the qiskit's AER simulator (`qiskit.aer` from the PennyLane-Qiskit plugin). Users with access to the IBM Q Experience can swap `qiskit.aer` for `qiskit.ibmq` and specify their chosen backend (see [here](https://docs.pennylane.ai/projects/qiskit/en/latest/devices/ibmq.html)). However, `lightning` simulator (native from pennylane) is much faster in colab.  \n",
    "\n",
    "\n"
   ]
  },
  {
   "cell_type": "code",
   "execution_count": null,
   "metadata": {
    "ExecuteTime": {
     "end_time": "2023-12-07T03:57:14.155605778Z",
     "start_time": "2023-12-07T03:57:14.106783530Z"
    },
    "id": "Fn3p4dkKwtSb"
   },
   "outputs": [],
   "source": [
    "# Defines the new device as aer\n",
    "# qgrnn_dev = qml.device(\"qiskit.aer\", wires=2 * qubit_number + 1)\n",
    "## For gpu\n",
    "#qgrnn_dev.backend.set_options(device='GPU')\n",
    "qgrnn_dev = qml.device(\"lightning.qubit\", wires=2 * qubit_number + 1)\n",
    "# Defines the new QNode\n",
    "qgrnn_qnode = qml.QNode(qgrnn, qgrnn_dev)\n",
    "\n",
    "steps = 300\n",
    "\n",
    "optimizer = qml.AdamOptimizer(stepsize=0.5)\n",
    "\n",
    "weights = rng.random(size=len(new_ising_graph.edges), requires_grad=True) - 0.5\n",
    "bias = rng.random(size=qubit_number, requires_grad=True) - 0.5\n",
    "\n",
    "initial_weights = copy.copy(weights)\n",
    "initial_bias = copy.copy(bias)"
   ]
  },
  {
   "cell_type": "markdown",
   "metadata": {
    "id": "VHtXRYWJwtSb"
   },
   "source": [
    "All that remains is executing the optimization loop.\n"
   ]
  },
  {
   "cell_type": "code",
   "execution_count": null,
   "metadata": {
    "ExecuteTime": {
     "end_time": "2023-12-07T04:00:01.623442484Z",
     "start_time": "2023-12-07T03:57:14.154454534Z"
    },
    "colab": {
     "base_uri": "https://localhost:8080/"
    },
    "id": "8YS6wq55wtSb",
    "outputId": "674035fc-2e6b-47eb-8752-6cfce017137e"
   },
   "outputs": [],
   "source": [
    "for i in range(0, steps):\n",
    "    (weights, bias), cost = optimizer.step_and_cost(cost_function, weights, bias)\n",
    "\n",
    "    # Prints the value of the cost function\n",
    "    if i % 5 == 0:\n",
    "        print(f\"Cost at Step {i}: {cost}\")\n",
    "        print(f\"Weights at Step {i}: {weights}\")\n",
    "        print(f\"Bias at Step {i}: {bias}\")\n",
    "        print(\"---------------------------------------------\")"
   ]
  },
  {
   "cell_type": "markdown",
   "metadata": {
    "id": "PDI31xXAwtSc"
   },
   "source": [
    "With the learned parameters, we construct a visual representation of the Hamiltonian to which they correspond and compare it to the target Hamiltonian, and the initial guessed Hamiltonian:\n"
   ]
  },
  {
   "cell_type": "code",
   "execution_count": null,
   "metadata": {
    "ExecuteTime": {
     "end_time": "2023-12-07T04:00:01.825959827Z",
     "start_time": "2023-12-07T04:00:01.634246793Z"
    },
    "colab": {
     "base_uri": "https://localhost:8080/",
     "height": 230
    },
    "id": "wZRmbN5fwtSc",
    "outputId": "b2f7dd83-f46a-4869-eae9-db3d9d5a5616"
   },
   "outputs": [],
   "source": [
    "new_ham_matrix = create_hamiltonian_matrix(\n",
    "    qubit_number, nx.complete_graph(qubit_number), weights, bias\n",
    ")\n",
    "\n",
    "init_ham = create_hamiltonian_matrix(\n",
    "    qubit_number, nx.complete_graph(qubit_number), initial_weights, initial_bias\n",
    ")\n",
    "\n",
    "fig, axes = plt.subplots(nrows=1, ncols=3, figsize=(6, 6))\n",
    "\n",
    "axes[0].matshow(ham_matrix, vmin=-7, vmax=7, cmap=\"hot\")\n",
    "axes[0].set_title(\"Target\", y=1.13)\n",
    "\n",
    "axes[1].matshow(init_ham, vmin=-7, vmax=7, cmap=\"hot\")\n",
    "axes[1].set_title(\"Initial\", y=1.13)\n",
    "\n",
    "axes[2].matshow(new_ham_matrix, vmin=-7, vmax=7, cmap=\"hot\")\n",
    "axes[2].set_title(\"Learned\", y=1.13)\n",
    "\n",
    "plt.subplots_adjust(wspace=0.3, hspace=0.3)\n",
    "plt.show()"
   ]
  },
  {
   "cell_type": "markdown",
   "metadata": {
    "id": "wk4rHN3KwtSc"
   },
   "source": [
    "These images look very similar, indicating that the QGRNN has done a good job learning the target Hamiltonian.\n",
    "\n",
    "We can also look at the exact values of the target and learned parameters. Recall how the target interaction graph has $4$ edges while the complete graph has $6$. Thus, as the QGRNN converges to the optimal solution, the weights corresponding to edges $(1, 3)$ and $(2, 0)$ in the complete graph should go to $0$, as this indicates that they have no\n",
    "effect, and effectively do not exist in the learned Hamiltonian.\n"
   ]
  },
  {
   "cell_type": "code",
   "execution_count": null,
   "metadata": {
    "ExecuteTime": {
     "end_time": "2023-12-07T04:00:01.830000788Z",
     "start_time": "2023-12-07T04:00:01.827521307Z"
    },
    "id": "6QkHsYtYwtSc"
   },
   "outputs": [],
   "source": [
    "# We first pick out the weights of edges (1, 3) and (2, 0)\n",
    "# and then remove them from the list of target parameters\n",
    "\n",
    "weights_noedge = []\n",
    "weights_edge = []\n",
    "for ii, edge in enumerate(new_ising_graph.edges):\n",
    "    if (edge[0] - qubit_number, edge[1] - qubit_number) in ising_graph.edges:\n",
    "        weights_edge.append(weights[ii])\n",
    "    else:\n",
    "        weights_noedge.append(weights[ii])"
   ]
  },
  {
   "cell_type": "markdown",
   "metadata": {
    "id": "ZtZkMCz_wtSc"
   },
   "source": [
    "Then, we print all of the weights:\n"
   ]
  },
  {
   "cell_type": "code",
   "execution_count": null,
   "metadata": {
    "ExecuteTime": {
     "end_time": "2023-12-07T04:00:01.842044037Z",
     "start_time": "2023-12-07T04:00:01.829815284Z"
    },
    "colab": {
     "base_uri": "https://localhost:8080/"
    },
    "id": "A_rBwmEMwtSc",
    "outputId": "04b3aa55-3afe-47d9-815c-d69081506efb"
   },
   "outputs": [],
   "source": [
    "print(\"Target parameters     Learned parameters\")\n",
    "print(\"Weights\")\n",
    "print(\"-\" * 41)\n",
    "for ii_target, ii_learned in zip(target_weights, weights_edge):\n",
    "    print(f\"{ii_target : <20}|{ii_learned : >20}\")\n",
    "\n",
    "print(\"\\nBias\")\n",
    "print(\"-\"*41)\n",
    "for ii_target, ii_learned in zip(target_bias, bias):\n",
    "    print(f\"{ii_target : <20}|{ii_learned : >20}\")\n",
    "\n",
    "print(f\"\\nNon-Existing Edge Parameters: {[val.unwrap() for val in weights_noedge]}\")"
   ]
  },
  {
   "cell_type": "markdown",
   "metadata": {
    "id": "6laDNdI3wtSc"
   },
   "source": [
    "The weights of edges $(1, 3)$ and $(2, 0)$ are very close to $0$, indicating we have learned the cycle graph from the complete graph. In addition, the remaining learned weights are fairly close to those of the target Hamiltonian. Thus, the QGRNN is functioning properly, and has learned the target Ising Hamiltonian to a high degree of accuracy!\n"
   ]
  },
  {
   "cell_type": "markdown",
   "metadata": {
    "id": "V4VhlBguwtSc"
   },
   "source": [
    "# References\n",
    "\n",
    "1. Ville Bergholm et al. PennyLane: Automatic differentiation of hybrid quantum-classical computations. 2018. [arXiv:1811.04968](https://arxiv.org/abs/1811.04968)\n",
    "2.  Verdon, G., McCourt, T., Luzhnica, E., Singh, V., Leichenauer, S., &\n",
    "    Hidary, J. (2019). Quantum Graph Neural Networks. arXiv preprint\n",
    "    [arXiv:1909.12264](https://arxiv.org/abs/1909.12264).\n"
   ]
  }
 ],
 "metadata": {
  "colab": {
   "provenance": []
  },
  "kernelspec": {
   "display_name": "Python 3 (ipykernel)",
   "language": "python",
   "name": "python3"
  },
  "language_info": {
   "codemirror_mode": {
    "name": "ipython",
    "version": 3
   },
   "file_extension": ".py",
   "mimetype": "text/x-python",
   "name": "python",
   "nbconvert_exporter": "python",
   "pygments_lexer": "ipython3",
   "version": "3.12.7"
  }
 },
 "nbformat": 4,
 "nbformat_minor": 4
}

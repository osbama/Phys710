{
  "cells": [
    {
      "cell_type": "code",
      "source": [
        "!pip install pennylane\n",
        "!pip install mitiq\n",
        "!pip install qiskit"
      ],
      "metadata": {
        "id": "EmZ8StAtC-np",
        "outputId": "8fc61961-6acd-49db-a483-8ccddca8f136",
        "colab": {
          "base_uri": "https://localhost:8080/"
        }
      },
      "id": "EmZ8StAtC-np",
      "execution_count": 8,
      "outputs": [
        {
          "output_type": "stream",
          "name": "stdout",
          "text": [
            "Requirement already satisfied: pennylane in /usr/local/lib/python3.10/dist-packages (0.39.0)\n",
            "Requirement already satisfied: numpy<2.1 in /usr/local/lib/python3.10/dist-packages (from pennylane) (1.26.4)\n",
            "Requirement already satisfied: scipy in /usr/local/lib/python3.10/dist-packages (from pennylane) (1.13.1)\n",
            "Requirement already satisfied: networkx in /usr/local/lib/python3.10/dist-packages (from pennylane) (3.4.2)\n",
            "Requirement already satisfied: rustworkx>=0.14.0 in /usr/local/lib/python3.10/dist-packages (from pennylane) (0.15.1)\n",
            "Requirement already satisfied: autograd in /usr/local/lib/python3.10/dist-packages (from pennylane) (1.7.0)\n",
            "Requirement already satisfied: toml in /usr/local/lib/python3.10/dist-packages (from pennylane) (0.10.2)\n",
            "Requirement already satisfied: appdirs in /usr/local/lib/python3.10/dist-packages (from pennylane) (1.4.4)\n",
            "Requirement already satisfied: autoray>=0.6.11 in /usr/local/lib/python3.10/dist-packages (from pennylane) (0.7.0)\n",
            "Requirement already satisfied: cachetools in /usr/local/lib/python3.10/dist-packages (from pennylane) (5.5.0)\n",
            "Requirement already satisfied: pennylane-lightning>=0.39 in /usr/local/lib/python3.10/dist-packages (from pennylane) (0.39.0)\n",
            "Requirement already satisfied: requests in /usr/local/lib/python3.10/dist-packages (from pennylane) (2.32.3)\n",
            "Requirement already satisfied: typing-extensions in /usr/local/lib/python3.10/dist-packages (from pennylane) (4.12.2)\n",
            "Requirement already satisfied: packaging in /usr/local/lib/python3.10/dist-packages (from pennylane) (24.2)\n",
            "Requirement already satisfied: charset-normalizer<4,>=2 in /usr/local/lib/python3.10/dist-packages (from requests->pennylane) (3.4.0)\n",
            "Requirement already satisfied: idna<4,>=2.5 in /usr/local/lib/python3.10/dist-packages (from requests->pennylane) (3.10)\n",
            "Requirement already satisfied: urllib3<3,>=1.21.1 in /usr/local/lib/python3.10/dist-packages (from requests->pennylane) (2.2.3)\n",
            "Requirement already satisfied: certifi>=2017.4.17 in /usr/local/lib/python3.10/dist-packages (from requests->pennylane) (2024.8.30)\n",
            "Requirement already satisfied: mitiq in /usr/local/lib/python3.10/dist-packages (0.41.0)\n",
            "Requirement already satisfied: numpy>=1.22.0 in /usr/local/lib/python3.10/dist-packages (from mitiq) (1.26.4)\n",
            "Requirement already satisfied: scipy<=1.14.1,>=1.10.1 in /usr/local/lib/python3.10/dist-packages (from mitiq) (1.13.1)\n",
            "Requirement already satisfied: cirq-core<1.5.0,>=1.4.0 in /usr/local/lib/python3.10/dist-packages (from mitiq) (1.4.1)\n",
            "Requirement already satisfied: tabulate in /usr/local/lib/python3.10/dist-packages (from mitiq) (0.9.0)\n",
            "Requirement already satisfied: attrs>=21.3.0 in /usr/local/lib/python3.10/dist-packages (from cirq-core<1.5.0,>=1.4.0->mitiq) (24.2.0)\n",
            "Requirement already satisfied: duet>=0.2.8 in /usr/local/lib/python3.10/dist-packages (from cirq-core<1.5.0,>=1.4.0->mitiq) (0.2.9)\n",
            "Requirement already satisfied: matplotlib~=3.0 in /usr/local/lib/python3.10/dist-packages (from cirq-core<1.5.0,>=1.4.0->mitiq) (3.8.0)\n",
            "Requirement already satisfied: networkx>=2.4 in /usr/local/lib/python3.10/dist-packages (from cirq-core<1.5.0,>=1.4.0->mitiq) (3.4.2)\n",
            "Requirement already satisfied: pandas in /usr/local/lib/python3.10/dist-packages (from cirq-core<1.5.0,>=1.4.0->mitiq) (2.2.2)\n",
            "Requirement already satisfied: sortedcontainers~=2.0 in /usr/local/lib/python3.10/dist-packages (from cirq-core<1.5.0,>=1.4.0->mitiq) (2.4.0)\n",
            "Requirement already satisfied: sympy in /usr/local/lib/python3.10/dist-packages (from cirq-core<1.5.0,>=1.4.0->mitiq) (1.13.1)\n",
            "Requirement already satisfied: typing-extensions>=4.2 in /usr/local/lib/python3.10/dist-packages (from cirq-core<1.5.0,>=1.4.0->mitiq) (4.12.2)\n",
            "Requirement already satisfied: tqdm in /usr/local/lib/python3.10/dist-packages (from cirq-core<1.5.0,>=1.4.0->mitiq) (4.66.6)\n",
            "Requirement already satisfied: contourpy>=1.0.1 in /usr/local/lib/python3.10/dist-packages (from matplotlib~=3.0->cirq-core<1.5.0,>=1.4.0->mitiq) (1.3.1)\n",
            "Requirement already satisfied: cycler>=0.10 in /usr/local/lib/python3.10/dist-packages (from matplotlib~=3.0->cirq-core<1.5.0,>=1.4.0->mitiq) (0.12.1)\n",
            "Requirement already satisfied: fonttools>=4.22.0 in /usr/local/lib/python3.10/dist-packages (from matplotlib~=3.0->cirq-core<1.5.0,>=1.4.0->mitiq) (4.55.1)\n",
            "Requirement already satisfied: kiwisolver>=1.0.1 in /usr/local/lib/python3.10/dist-packages (from matplotlib~=3.0->cirq-core<1.5.0,>=1.4.0->mitiq) (1.4.7)\n",
            "Requirement already satisfied: packaging>=20.0 in /usr/local/lib/python3.10/dist-packages (from matplotlib~=3.0->cirq-core<1.5.0,>=1.4.0->mitiq) (24.2)\n",
            "Requirement already satisfied: pillow>=6.2.0 in /usr/local/lib/python3.10/dist-packages (from matplotlib~=3.0->cirq-core<1.5.0,>=1.4.0->mitiq) (11.0.0)\n",
            "Requirement already satisfied: pyparsing>=2.3.1 in /usr/local/lib/python3.10/dist-packages (from matplotlib~=3.0->cirq-core<1.5.0,>=1.4.0->mitiq) (3.2.0)\n",
            "Requirement already satisfied: python-dateutil>=2.7 in /usr/local/lib/python3.10/dist-packages (from matplotlib~=3.0->cirq-core<1.5.0,>=1.4.0->mitiq) (2.8.2)\n",
            "Requirement already satisfied: pytz>=2020.1 in /usr/local/lib/python3.10/dist-packages (from pandas->cirq-core<1.5.0,>=1.4.0->mitiq) (2024.2)\n",
            "Requirement already satisfied: tzdata>=2022.7 in /usr/local/lib/python3.10/dist-packages (from pandas->cirq-core<1.5.0,>=1.4.0->mitiq) (2024.2)\n",
            "Requirement already satisfied: mpmath<1.4,>=1.1.0 in /usr/local/lib/python3.10/dist-packages (from sympy->cirq-core<1.5.0,>=1.4.0->mitiq) (1.3.0)\n",
            "Requirement already satisfied: six>=1.5 in /usr/local/lib/python3.10/dist-packages (from python-dateutil>=2.7->matplotlib~=3.0->cirq-core<1.5.0,>=1.4.0->mitiq) (1.16.0)\n",
            "Collecting qiskit\n",
            "  Downloading qiskit-1.3.0-cp39-abi3-manylinux_2_17_x86_64.manylinux2014_x86_64.whl.metadata (12 kB)\n",
            "Requirement already satisfied: rustworkx>=0.15.0 in /usr/local/lib/python3.10/dist-packages (from qiskit) (0.15.1)\n",
            "Requirement already satisfied: numpy<3,>=1.17 in /usr/local/lib/python3.10/dist-packages (from qiskit) (1.26.4)\n",
            "Requirement already satisfied: scipy>=1.5 in /usr/local/lib/python3.10/dist-packages (from qiskit) (1.13.1)\n",
            "Requirement already satisfied: sympy>=1.3 in /usr/local/lib/python3.10/dist-packages (from qiskit) (1.13.1)\n",
            "Collecting dill>=0.3 (from qiskit)\n",
            "  Downloading dill-0.3.9-py3-none-any.whl.metadata (10 kB)\n",
            "Requirement already satisfied: python-dateutil>=2.8.0 in /usr/local/lib/python3.10/dist-packages (from qiskit) (2.8.2)\n",
            "Collecting stevedore>=3.0.0 (from qiskit)\n",
            "  Downloading stevedore-5.4.0-py3-none-any.whl.metadata (2.3 kB)\n",
            "Requirement already satisfied: typing-extensions in /usr/local/lib/python3.10/dist-packages (from qiskit) (4.12.2)\n",
            "Collecting symengine<0.14,>=0.11 (from qiskit)\n",
            "  Downloading symengine-0.13.0-cp310-cp310-manylinux_2_17_x86_64.manylinux2014_x86_64.whl.metadata (1.2 kB)\n",
            "Requirement already satisfied: six>=1.5 in /usr/local/lib/python3.10/dist-packages (from python-dateutil>=2.8.0->qiskit) (1.16.0)\n",
            "Collecting pbr>=2.0.0 (from stevedore>=3.0.0->qiskit)\n",
            "  Downloading pbr-6.1.0-py2.py3-none-any.whl.metadata (3.4 kB)\n",
            "Requirement already satisfied: mpmath<1.4,>=1.1.0 in /usr/local/lib/python3.10/dist-packages (from sympy>=1.3->qiskit) (1.3.0)\n",
            "Downloading qiskit-1.3.0-cp39-abi3-manylinux_2_17_x86_64.manylinux2014_x86_64.whl (6.7 MB)\n",
            "\u001b[2K   \u001b[90m━━━━━━━━━━━━━━━━━━━━━━━━━━━━━━━━━━━━━━━━\u001b[0m \u001b[32m6.7/6.7 MB\u001b[0m \u001b[31m51.5 MB/s\u001b[0m eta \u001b[36m0:00:00\u001b[0m\n",
            "\u001b[?25hDownloading dill-0.3.9-py3-none-any.whl (119 kB)\n",
            "\u001b[2K   \u001b[90m━━━━━━━━━━━━━━━━━━━━━━━━━━━━━━━━━━━━━━━━\u001b[0m \u001b[32m119.4/119.4 kB\u001b[0m \u001b[31m8.8 MB/s\u001b[0m eta \u001b[36m0:00:00\u001b[0m\n",
            "\u001b[?25hDownloading stevedore-5.4.0-py3-none-any.whl (49 kB)\n",
            "\u001b[2K   \u001b[90m━━━━━━━━━━━━━━━━━━━━━━━━━━━━━━━━━━━━━━━━\u001b[0m \u001b[32m49.5/49.5 kB\u001b[0m \u001b[31m2.8 MB/s\u001b[0m eta \u001b[36m0:00:00\u001b[0m\n",
            "\u001b[?25hDownloading symengine-0.13.0-cp310-cp310-manylinux_2_17_x86_64.manylinux2014_x86_64.whl (49.7 MB)\n",
            "\u001b[2K   \u001b[90m━━━━━━━━━━━━━━━━━━━━━━━━━━━━━━━━━━━━━━━━\u001b[0m \u001b[32m49.7/49.7 MB\u001b[0m \u001b[31m16.6 MB/s\u001b[0m eta \u001b[36m0:00:00\u001b[0m\n",
            "\u001b[?25hDownloading pbr-6.1.0-py2.py3-none-any.whl (108 kB)\n",
            "\u001b[2K   \u001b[90m━━━━━━━━━━━━━━━━━━━━━━━━━━━━━━━━━━━━━━━━\u001b[0m \u001b[32m108.5/108.5 kB\u001b[0m \u001b[31m8.4 MB/s\u001b[0m eta \u001b[36m0:00:00\u001b[0m\n",
            "\u001b[?25hInstalling collected packages: symengine, pbr, dill, stevedore, qiskit\n",
            "Successfully installed dill-0.3.9 pbr-6.1.0 qiskit-1.3.0 stevedore-5.4.0 symengine-0.13.0\n"
          ]
        }
      ]
    },
    {
      "cell_type": "markdown",
      "source": [
        "# Classical shadows\n",
        "\n",
        "Estimating properties of unknown quantum states is a key objective of quantum information science and technology. For example, one might want to check whether an apparatus prepares a particular target state, or verify that an unknown system is entangled. In principle, any unknown quantum state can be fully characterized by [quantum state tomography](https://arxiv.org/pdf/quant-ph/0302028.pdf). However, this procedure requires accurate expectation values for a set of observables whose size grows exponentially with the number of qubits. A potential workaround for these scaling concerns is provided by the classical shadow approximation introduced in a recent paper by Huang et al. (Huang, Hsin-Yuan, Richard Kueng, and John Preskill, “Predicting many properties of a quantum system from very few measurements”, Nature Physics 16.10 (2020): 1050-1057. ).\n",
        "\n",
        "The approximation is an efficient protocol for constructing a *classical shadow* representation of an unknown quantum state. The classical shadow can be used to estimate properties such as quantum state fidelity, expectation values of Hamiltonians, entanglement witnesses, and two-point correlators.\n",
        "\n",
        "![(Image from Huang et\n",
        "al..)](https://github.com/osbama/Phys710/blob/master/Lecture%208/classical_shadow_overview.png?raw=1)\n",
        "\n",
        "## Constructing a Classical Shadow\n",
        "\n",
        "\n",
        "Classical shadow estimation relies on the fact that for a particular choice of measurement, we can efficiently store snapshots of the state that contain enough information to accurately predict linear functions of observables. Depending on what type of measurements we choose, we\n",
        "have an information-theoretic bound that allows us to control the precision of our estimator.\n",
        "\n",
        "Let us consider an $n$-qubit quantum state $\\rho$ (prepared by a circuit) and apply a random unitary $U$ to the state:\n",
        "\n",
        "$$\\rho \\to U \\rho U^\\dagger.$$\n",
        "\n",
        "Next, we measure in the computational basis and obtain a bit string of outcomes $|b\\rangle = |0011\\ldots10\\rangle$. If the unitaries $U$ are chosen at random from a particular ensemble, then we can store the reverse operation $U^\\dagger |b\\rangle\\langle b| U$ efficiently in\n",
        "classical memory. We call this a *snapshot* of the state. Moreover, we can view the average over these snapshots as a measurement channel:\n",
        "\n",
        "$$\\mathbb{E}\\left[U^\\dagger |b\\rangle\\langle b| U\\right] = \\mathcal{M}(\\rho).$$\n",
        "\n",
        "If the ensemble of unitaries defines a tomographically complete set of measurements, we can invert the channel and reconstruct the state:\n",
        "\n",
        "$$\\rho = \\mathbb{E}\\left[\\mathcal{M}^{-1}\\left(U^\\dagger |b\\rangle\\langle b| U \\right)\\right].$$\n",
        "\n",
        "If we apply the procedure outlined above $N$ times, then the collection of inverted snapshots is what we call the *classical shadow*\n",
        "\n",
        "$$S(\\rho,N) = \\left\\{\\hat{\\rho}_1= \\mathcal{M}^{-1}\\left(U_1^\\dagger |b_1\\rangle\\langle b_1| U_1 \\right)\n",
        ",\\ldots, \\hat{\\rho}_N= \\mathcal{M}^{-1}\\left(U_N^\\dagger |b_N\\rangle\\langle b_N| U_N \\right)\n",
        "\\right\\}.$$\n",
        "\n",
        "The inverted channel is not physical, i.e., it is not completely postive and trace preserving (CPTP). However, this is of no concern to us, since all we care about is efficiently applying this inverse channel to the observed snapshots as a post-processing step.\n",
        "\n",
        "Since the shadow approximates $\\rho$, we can now estimate **any** observable with the empirical mean:\n",
        "\n",
        "$$\\langle O \\rangle = \\frac{1}{N}\\sum_i \\text{Tr}{\\hat{\\rho}_i O}.$$\n",
        "\n",
        "Note that the classical shadow is independent of the observables we want to estimate, as $S(\\rho,N)$ contains only information about the state!\n",
        "\n",
        "Furthermore, the authors of prove that with a shadow of size $N$, we can predict $M$ arbitary linear functions $\\text{Tr}{O_1\\rho},\\ldots,\\text{Tr}{O_M \\rho}$ up to an additive error\n",
        "$\\epsilon$ if $N\\geq \\mathcal{O}\\left(\\log{M} \\max_i ||O_i||^2_{\\text{shadow}}/\\epsilon^2\\right)$. The shadow norm $||O_i||^2_{\\text{shadow}}$ depends on the unitary ensemble that is chosen.\n",
        "\n",
        "Two different ensembles can be considered for selecting the random unitaries $U$:\n",
        "\n",
        "1.  Random $n$-qubit Clifford circuits.\n",
        "2.  Tensor products of random single-qubit Clifford circuits.\n",
        "\n",
        "We can extend this idea further, to mitigate errors."
      ],
      "metadata": {
        "collapsed": false,
        "id": "485e893e811f1b5"
      },
      "id": "485e893e811f1b5"
    },
    {
      "cell_type": "markdown",
      "id": "64491b55b0643974",
      "metadata": {
        "collapsed": false,
        "id": "64491b55b0643974"
      },
      "source": [
        "![](https://github.com/osbama/Phys710/blob/master/Lecture%208/mitiq-logo.png?raw=1)\n",
        "\n",
        "[Mitiq](https://quantum-journal.org/papers/q-2022-08-11-774/) is a Python toolkit for implementing error mitigation techniques on quantum computers.\n",
        "\n",
        "Current quantum computers are noisy due to interactions with the environment, imperfect gate applications, state preparation and measurement errors, etc. Error mitigation seeks to reduce these effects at the software level by compiling quantum programs in clever ways."
      ]
    },
    {
      "cell_type": "markdown",
      "id": "13f873e71b489b39",
      "metadata": {
        "collapsed": false,
        "id": "13f873e71b489b39"
      },
      "source": [
        "# Clifford Data Regression\n",
        "\n",
        "Clifford data regression (CDR) is a learning-based quantum error mitigation technique in which an error mitigation model is trained with quantum circuits that _resemble_ the circuit of interest, but which are easier to classically simulate [1](https://link.aps.org/doi/10.1103/PhysRevResearch.3.033098), [2](http://dx.doi.org/10.22331/q-2021-11-26-592).\n",
        "\n",
        "![](https://github.com/osbama/Phys710/blob/master/Lecture%208/cdr_workflow2_steps.png?raw=1)\n",
        "\n",
        "The CDR workflow Figure above shows a schema of the implementation of CDR in Mitiq. Similarly to ZNE and PEC, also CDR in Mitiq is divided in two main stages: The first one of circuit generation and the second for inference of the mitigated value. However, in CDR, the generation of quantum circuits is different, as it involves the generation of training circuits. The division of CDR into training, learning and prediction stages is shown in the figure below.\n",
        "\n",
        "\n",
        "![](https://github.com/osbama/Phys710/blob/master/Lecture%208/cdr_diagram2.png?raw=1)\n",
        "\n",
        "Near-Clifford approximations of the actual circuit are simulated, without noise, on a classical simulator (circuits can be efficiently simulated classically) and executed on the noisy quantum computer (or a noisy simulator). These results are used as training data to infer the zero-noise expectation value of the error miitigated original circuit, that is finally run on the quantum computer (or noisy simulator)\n",
        "\n",
        "# When should I use CDR?\n",
        "\n",
        "## Advantages\n",
        "\n",
        "The main advantage of CDR is that it can be applied without knowing the specific details of the noise\n",
        "model. Indeed, in CDR, the effects of noise are indirectly _learned_ through the execution of an appropriate\n",
        "set of test circuits. In this way, the final error mitigation inference tends to self-tune with respect\n",
        "to the used backend.\n",
        "\n",
        "This self-tuning property is even stronger in the case of _variable-noise-CDR_, i.e., when using the _scale_factors_ option\n",
        "in {func}`.execute_with_cdr`. In this case, the final error mitigated expectation value is obtained\n",
        "as a linear combination of noise-scaled expectation values. This is similar to the [ZNE approach](zne-5-theory.md) but, in CDR,\n",
        "the coefficients of the linear combination are learned instead of being fixed by the extrapolation model.\n",
        "\n",
        "\n",
        "## Disadvantages\n",
        "\n",
        "The main disadvantage of CDR is that the learning process is performed on a suite of test circuits which\n",
        "only _resemble_ the original circuit of interest. Indeed, test circuits are _near-Clifford approximations_\n",
        "of the original one. Only when the approximation is justified, the application of CDR can produce meaningful\n",
        "results.\n",
        "Increasing the `fraction_non_clifford` option in {func}`.execute_with_cdr` can alleviate this problem\n",
        "to some extent. Note that, the larger `fraction_non_clifford` is, the larger the classical computation overhead is.\n",
        "\n",
        "Another relevant aspect to consider is that, to apply CDR in a scalable way, a valid near-Clifford simulator\n",
        "is necessary. Note that the computation cost of a valid near-Clifford simulator should scale with the number of non-Clifford\n",
        "gates, independently from the circuit depth. Only in this case, the learning phase of CDR can be applied efficiently.\n"
      ]
    },
    {
      "cell_type": "markdown",
      "id": "885fe3f9b086a898",
      "metadata": {
        "collapsed": false,
        "id": "885fe3f9b086a898"
      },
      "source": [
        "# What is the theory behind CDR?\n",
        "\n",
        "Clifford data regression (CDR) is a quantum error mitigation technique that has been introduced in Ref. {cite}`Czarnik_2021_Quantum` and extended to variable-noise CDR in Ref. {cite}`Lowe_2021_PRR`.\n",
        ". The presented error mitigation (EM) strategy is designed for gate-based quantum computers. This method primarily consists of creating a training data set $\\{(X_{\\phi_i}^{\\text{error}}, X_{\\phi_i}^{\\text{exact}})\\}$, where $X_{\\phi_i}^{\\text{error}}$ and $X_{\\phi_i}^{\\text{exact}}$ are the expectation values of an observable $X$ for a state $|\\phi_i\\rangle$ under error and error-free conditions, respectively.\n",
        "\n",
        "This method includes the following steps:\n",
        "\n",
        "## Step 1: Choose Near-Clifford Circuits for Training\n",
        "\n",
        "Near-Clifford circuits are selected due to their capability to be efficiently simulated classically, and are denoted by $S_\\psi=\\{|\\phi_i\\rangle\\}_i$.\n",
        "\n",
        "## Step 2: Construct the Training Set\n",
        "\n",
        "The training set $\\{(X_{\\phi_i}^{\\text{error}}, X_{\\phi_i}^{\\text{exact}})\\}_i$ is constructed by calculating the expectation values of $X$ for each state $|\\phi_i\\rangle$ in $S_\\psi$, on both a quantum computer (to obtain $X_{\\phi_i}^{\\text{error}}$) and a classical computer (to obtain $X_{\\phi_i}^{\\text{exact}}$).\n",
        "\n",
        "## Step 3: Learn the Error Mitigation Model\n",
        "\n",
        "A model $f(X^{\\text{error}}, a)$ for $X^{exact}$ is defined and learned. Here, $a$ is the set of parameters to be determined. This is achieved by minimizing the distance between the training set, as expressed by the following optimization problem:\n",
        "\n",
        "$$a_{opt} = \\underset{a}{\\text{argmin}} \\sum_i \\left| X_{\\phi_i}^{\\text{exact}} - f(X_{\\phi_i}^{\\text{error}},a) \\right|^2.$$\n",
        "\n",
        "In this expression, $a_{opt}$ are the parameters that minimize the cost function.\n",
        "\n",
        "## Step 4: Apply the Error Mitigation Model\n",
        "\n",
        "Finally, the learned model $f(X^{\\text{error}}, a_{opt})$ is used to correct the expectation values of $X$ for new quantum states, expressed as $X_\\psi^{\\text{exact}} = f(X_\\psi^{\\text{error}}, a_{opt})$.\n",
        "\n",
        "The effectiveness of this method has been proven on circuits with up to 64 qubits and for tasks such as estimating ground-state energies. However, its performance is dependent on the task, the system, the quality of the training data, and the choice of model.\n",
        "\n"
      ]
    },
    {
      "cell_type": "markdown",
      "id": "5cf82b704acdb68",
      "metadata": {
        "collapsed": false,
        "id": "5cf82b704acdb68"
      },
      "source": [
        "# How do I use CDR?\n",
        "\n",
        "Here we show how to use CDR by means of a simple example."
      ]
    },
    {
      "cell_type": "code",
      "execution_count": 2,
      "id": "f9aba8ff9e09f288",
      "metadata": {
        "ExecuteTime": {
          "end_time": "2023-12-13T22:47:19.650271603Z",
          "start_time": "2023-12-13T22:47:18.497682976Z"
        },
        "id": "f9aba8ff9e09f288"
      },
      "outputs": [],
      "source": [
        "import numpy as np\n",
        "import warnings\n",
        "warnings.simplefilter(\"ignore\", np.ComplexWarning)\n",
        "\n",
        "import cirq\n",
        "from mitiq import cdr, Observable, PauliString"
      ]
    },
    {
      "cell_type": "markdown",
      "id": "66c0e92afee8e2e4",
      "metadata": {
        "collapsed": false,
        "id": "66c0e92afee8e2e4"
      },
      "source": [
        "\n",
        "## Problem setup\n",
        "\n",
        "To use CDR, we call {func}`.cdr.execute_with_cdr` with four \"ingredients\":\n",
        "\n",
        "1. A quantum circuit to prepare a state $\\rho$.\n",
        "1. A quantum computer or noisy simulator to return a {class}`.QuantumResult` from $\\rho$.\n",
        "1. An observable $O$ which specifies what we wish to compute via $\\text{Tr} [ \\rho O ]$.\n",
        "1. A near-Clifford (classical) circuit simulator.\n",
        "\n",
        "\n",
        "### 1. Define a quantum circuit\n",
        "\n",
        "The quantum circuit can be specified as any quantum circuit supported by Mitiq but\n",
        "**must be compiled into a gateset in which the only non-Clifford gates are\n",
        "single-qubit rotations around the $Z$ axis: $R_Z(\\theta)$**.  For example:\n",
        "\n",
        "$$\\{ \\sqrt{X}, R_Z(\\theta), \\text{CNOT}\\},$$\n",
        "$$\\{{R_X(\\pi/2)}, R_Z(\\theta), \\text{CZ}\\},$$\n",
        "$$\\{H, S, R_Z(\\theta), \\text{CNOT}\\},$$\n",
        "$$ \\dots$$\n",
        "\n",
        "In the next cell we define (as an example) a quantum circuit which contains some\n",
        "Clifford gates and some non-Clifford $R_Z(\\theta)$ rotations.\n"
      ]
    },
    {
      "cell_type": "code",
      "execution_count": 3,
      "id": "7f65a3a7cc206c8a",
      "metadata": {
        "ExecuteTime": {
          "end_time": "2023-12-13T22:47:19.743119105Z",
          "start_time": "2023-12-13T22:47:19.738749781Z"
        },
        "id": "7f65a3a7cc206c8a"
      },
      "outputs": [],
      "source": [
        "a, b = cirq.LineQubit.range(2)\n",
        "circuit = cirq.Circuit(\n",
        "    cirq.H.on(a), # Clifford\n",
        "    cirq.H.on(b), # Clifford\n",
        "    cirq.rz(1.75).on(a),\n",
        "    cirq.rz(2.31).on(b),\n",
        "    cirq.CNOT.on(a, b),  # Clifford\n",
        "    cirq.rz(-1.17).on(b),\n",
        "    cirq.rz(3.23).on(a),\n",
        "    cirq.rx(np.pi / 2).on(a),  # Clifford\n",
        "    cirq.rx(np.pi / 2).on(b),  # Clifford\n",
        ")\n",
        "\n",
        "# CDR works better if the circuit is not too short. So we increase its depth.\n",
        "circuit = 5 * circuit"
      ]
    },
    {
      "cell_type": "markdown",
      "source": [
        "### Define an executor\n"
      ],
      "metadata": {
        "collapsed": false,
        "id": "d449a3c6ca7bb737"
      },
      "id": "d449a3c6ca7bb737"
    },
    {
      "cell_type": "code",
      "execution_count": 4,
      "outputs": [
        {
          "output_type": "execute_result",
          "data": {
            "text/plain": [
              "array([[ 0.834-0.j   , -0.027+0.075j, -0.004+0.061j, -0.022-0.052j],\n",
              "       [-0.027-0.075j,  0.057-0.j   ,  0.007-0.006j, -0.003+0.002j],\n",
              "       [-0.004-0.061j,  0.007+0.006j,  0.053+0.j   , -0.005+0.004j],\n",
              "       [-0.022+0.052j, -0.003-0.002j, -0.005-0.004j,  0.056+0.j   ]],\n",
              "      dtype=complex64)"
            ]
          },
          "metadata": {},
          "execution_count": 4
        }
      ],
      "source": [
        "from mitiq.interface.mitiq_cirq import compute_density_matrix\n",
        "\n",
        "compute_density_matrix(circuit).round(3)\n"
      ],
      "metadata": {
        "ExecuteTime": {
          "end_time": "2023-12-13T22:47:19.777108010Z",
          "start_time": "2023-12-13T22:47:19.741360880Z"
        },
        "id": "aedaad520eae7a33",
        "outputId": "ab27892b-1064-4c1c-d797-db185ea981b6",
        "colab": {
          "base_uri": "https://localhost:8080/"
        }
      },
      "id": "aedaad520eae7a33"
    },
    {
      "cell_type": "markdown",
      "source": [
        "### Observable\n",
        "As an example, assume that we wish to compute the expectation value $\\text{Tr} [ \\rho O ]$ of the following observable $O$:"
      ],
      "metadata": {
        "collapsed": false,
        "id": "d9ab8209c49b7398"
      },
      "id": "d9ab8209c49b7398"
    },
    {
      "cell_type": "code",
      "execution_count": 5,
      "outputs": [
        {
          "output_type": "stream",
          "name": "stdout",
          "text": [
            "Z(q(0))*Z(q(1)) + (-1.75+0j)*X(q(0))\n"
          ]
        }
      ],
      "source": [
        "# Observable to measure.\n",
        "obs = Observable(PauliString(\"ZZ\"), PauliString(\"X\", coeff=-1.75))\n",
        "print(obs)"
      ],
      "metadata": {
        "ExecuteTime": {
          "end_time": "2023-12-13T22:47:19.785796349Z",
          "start_time": "2023-12-13T22:47:19.776727262Z"
        },
        "id": "a62c6c8f6cdb5364",
        "outputId": "eabbcbf4-62e6-4938-f5fa-4bef38507b1c",
        "colab": {
          "base_uri": "https://localhost:8080/"
        }
      },
      "id": "a62c6c8f6cdb5364"
    },
    {
      "cell_type": "markdown",
      "source": [
        "### (Near-Clifford) Simulator\n",
        "The CDR method creates a set of \"training circuits\" which are related to the input circuit and are efficiently simulable. These circuits are simulated on a classical (noiseless) simulator to collect data for regression. The simulator should also return a `QuantumResult`."
      ],
      "metadata": {
        "collapsed": false,
        "id": "318a565b616bf5e"
      },
      "id": "318a565b616bf5e"
    },
    {
      "cell_type": "code",
      "execution_count": 6,
      "outputs": [
        {
          "output_type": "execute_result",
          "data": {
            "text/plain": [
              "array([[ 0.982-0.j   , -0.016+0.081j, -0.004+0.049j, -0.049-0.075j],\n",
              "       [-0.016-0.081j,  0.007-0.j   ,  0.004-0.j   , -0.005+0.005j],\n",
              "       [-0.004-0.049j,  0.004+0.j   ,  0.002-0.j   , -0.004+0.003j],\n",
              "       [-0.049+0.075j, -0.005-0.005j, -0.004-0.003j,  0.008-0.j   ]],\n",
              "      dtype=complex64)"
            ]
          },
          "metadata": {},
          "execution_count": 6
        }
      ],
      "source": [
        "def simulate(circuit: cirq.Circuit) -> np.ndarray:\n",
        "    return compute_density_matrix(circuit, noise_level=(0.0,))\n",
        "\n",
        "simulate(circuit).round(3)"
      ],
      "metadata": {
        "ExecuteTime": {
          "end_time": "2023-12-13T22:47:19.838721110Z",
          "start_time": "2023-12-13T22:47:19.780232432Z"
        },
        "id": "5d40c4f19fc89deb",
        "outputId": "a63bcdec-ccc2-4a4a-9396-48c06e7fbe53",
        "colab": {
          "base_uri": "https://localhost:8080/"
        }
      },
      "id": "5d40c4f19fc89deb"
    },
    {
      "cell_type": "markdown",
      "id": "d6d1e01094cd2686",
      "metadata": {
        "collapsed": false,
        "id": "d6d1e01094cd2686"
      },
      "source": [
        "# Run CDR\n",
        "We first compute the noiseless result then the noisy result to compare to the mitigated result from CDR."
      ]
    },
    {
      "cell_type": "markdown",
      "id": "8b34e26bec15ec93",
      "metadata": {
        "collapsed": false,
        "id": "8b34e26bec15ec93"
      },
      "source": []
    },
    {
      "cell_type": "code",
      "execution_count": 11,
      "id": "b55972cbaeef4b18",
      "metadata": {
        "ExecuteTime": {
          "end_time": "2023-12-13T22:47:20.047849172Z",
          "start_time": "2023-12-13T22:47:19.838268385Z"
        },
        "id": "b55972cbaeef4b18",
        "outputId": "26296842-d2cf-4836-a111-44c236ec9682",
        "colab": {
          "base_uri": "https://localhost:8080/"
        }
      },
      "outputs": [
        {
          "output_type": "stream",
          "name": "stdout",
          "text": [
            "ideal_measurement =  1.0153721570968628\n",
            "unmitigated_measurement =  0.803094208240509\n",
            "mitigated_measurement =  1.0338448611892441\n",
            "Error (unmitigated): 0.21227794885635376\n",
            "Error (mitigated with CDR): 0.01847270409238133\n",
            "Relative error (unmitigated): 0.20906418141629543\n",
            "Relative error (mitigated with CDR): 0.018193037856383827\n",
            "Error reduction with CDR: 91.3%.\n"
          ]
        }
      ],
      "source": [
        "ideal_measurement = obs.expectation(circuit, simulate).real\n",
        "print(\"ideal_measurement = \",ideal_measurement)\n",
        "\n",
        "unmitigated_measurement = obs.expectation(circuit, compute_density_matrix).real\n",
        "print(\"unmitigated_measurement = \", unmitigated_measurement)\n",
        "\n",
        "mitigated_measurement = cdr.execute_with_cdr(\n",
        "    circuit,\n",
        "    compute_density_matrix,\n",
        "    observable=obs,\n",
        "    simulator=simulate,\n",
        "    seed=0,\n",
        ").real\n",
        "print(\"mitigated_measurement = \", mitigated_measurement)\n",
        "\n",
        "error_unmitigated = abs(unmitigated_measurement-ideal_measurement)\n",
        "error_mitigated = abs(mitigated_measurement-ideal_measurement)\n",
        "\n",
        "print(\"Error (unmitigated):\", error_unmitigated)\n",
        "print(\"Error (mitigated with CDR):\", error_mitigated)\n",
        "\n",
        "print(\"Relative error (unmitigated):\", (error_unmitigated/ideal_measurement))\n",
        "print(\"Relative error (mitigated with CDR):\", error_mitigated/ideal_measurement)\n",
        "\n",
        "print(f\"Error reduction with CDR: {(error_unmitigated-error_mitigated)/error_unmitigated :.1%}.\")\n"
      ]
    }
  ],
  "metadata": {
    "kernelspec": {
      "display_name": "Python 3 (ipykernel)",
      "language": "python",
      "name": "python3"
    },
    "language_info": {
      "codemirror_mode": {
        "name": "ipython",
        "version": 3
      },
      "file_extension": ".py",
      "mimetype": "text/x-python",
      "name": "python",
      "nbconvert_exporter": "python",
      "pygments_lexer": "ipython3",
      "version": "3.8.18"
    },
    "colab": {
      "provenance": []
    }
  },
  "nbformat": 4,
  "nbformat_minor": 5
}
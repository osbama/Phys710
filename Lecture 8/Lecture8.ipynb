{
 "cells": [
  {
   "cell_type": "markdown",
   "id": "64491b55b0643974",
   "metadata": {
    "collapsed": false
   },
   "source": [
    "![](./mitiq-logo.png)\n",
    "\n",
    "[Mitiq](https://quantum-journal.org/papers/q-2022-08-11-774/) is a Python toolkit for implementing error mitigation techniques on quantum computers.\n",
    "\n",
    "Current quantum computers are noisy due to interactions with the environment, imperfect gate applications, state preparation and measurement errors, etc. Error mitigation seeks to reduce these effects at the software level by compiling quantum programs in clever ways."
   ]
  },
  {
   "cell_type": "markdown",
   "id": "13f873e71b489b39",
   "metadata": {
    "collapsed": false
   },
   "source": [
    "# Clifford Data Regression\n",
    "\n",
    "Clifford data regression (CDR) is a learning-based quantum error mitigation technique in which an error mitigation model is trained with quantum circuits that _resemble_ the circuit of interest, but which are easier to classically simulate [1](https://link.aps.org/doi/10.1103/PhysRevResearch.3.033098), [2](http://dx.doi.org/10.22331/q-2021-11-26-592).\n",
    "\n",
    "![](./cdr_workflow2_steps.png)\n",
    "\n",
    "The CDR workflow Figure above shows a schema of the implementation of CDR in Mitiq. Similarly to ZNE and PEC, also CDR in Mitiq is divided in two main stages: The first one of circuit generation and the second for inference of the mitigated value. However, in CDR, the generation of quantum circuits is different, as it involves the generation of training circuits. The division of CDR into training, learning and prediction stages is shown in the figure below.\n",
    "\n",
    "\n",
    "![](./cdr_diagram2.png)\n",
    "\n",
    "Near-Clifford approximations of the actual circuit are simulated, without noise, on a classical simulator (circuits can be efficiently simulated classically) and executed on the noisy quantum computer (or a noisy simulator). These results are used as training data to infer the zero-noise expectation value of the error miitigated original circuit, that is finally run on the quantum computer (or noisy simulator)\n",
    "\n",
    "# When should I use CDR?\n",
    "\n",
    "## Advantages\n",
    "\n",
    "The main advantage of CDR is that it can be applied without knowing the specific details of the noise\n",
    "model. Indeed, in CDR, the effects of noise are indirectly _learned_ through the execution of an appropriate\n",
    "set of test circuits. In this way, the final error mitigation inference tends to self-tune with respect\n",
    "to the used backend.\n",
    "\n",
    "This self-tuning property is even stronger in the case of _variable-noise-CDR_, i.e., when using the _scale_factors_ option\n",
    "in {func}`.execute_with_cdr`. In this case, the final error mitigated expectation value is obtained\n",
    "as a linear combination of noise-scaled expectation values. This is similar to the [ZNE approach](zne-5-theory.md) but, in CDR, \n",
    "the coefficients of the linear combination are learned instead of being fixed by the extrapolation model.\n",
    "\n",
    "\n",
    "## Disadvantages\n",
    "\n",
    "The main disadvantage of CDR is that the learning process is performed on a suite of test circuits which\n",
    "only _resemble_ the original circuit of interest. Indeed, test circuits are _near-Clifford approximations_\n",
    "of the original one. Only when the approximation is justified, the application of CDR can produce meaningful\n",
    "results.\n",
    "Increasing the `fraction_non_clifford` option in {func}`.execute_with_cdr` can alleviate this problem\n",
    "to some extent. Note that, the larger `fraction_non_clifford` is, the larger the classical computation overhead is.\n",
    "\n",
    "Another relevant aspect to consider is that, to apply CDR in a scalable way, a valid near-Clifford simulator\n",
    "is necessary. Note that the computation cost of a valid near-Clifford simulator should scale with the number of non-Clifford\n",
    "gates, independently from the circuit depth. Only in this case, the learning phase of CDR can be applied efficiently.\n"
   ]
  },
  {
   "cell_type": "markdown",
   "id": "885fe3f9b086a898",
   "metadata": {
    "collapsed": false
   },
   "source": [
    "# What is the theory behind CDR?\n",
    "\n",
    "Clifford data regression (CDR) is a quantum error mitigation technique that has been introduced in Ref. {cite}`Czarnik_2021_Quantum` and extended to variable-noise CDR in Ref. {cite}`Lowe_2021_PRR`.\n",
    ". The presented error mitigation (EM) strategy is designed for gate-based quantum computers. This method primarily consists of creating a training data set $\\{(X_{\\phi_i}^{\\text{error}}, X_{\\phi_i}^{\\text{exact}})\\}$, where $X_{\\phi_i}^{\\text{error}}$ and $X_{\\phi_i}^{\\text{exact}}$ are the expectation values of an observable $X$ for a state $|\\phi_i\\rangle$ under error and error-free conditions, respectively. \n",
    "\n",
    "This method includes the following steps:\n",
    "\n",
    "## Step 1: Choose Near-Clifford Circuits for Training\n",
    "\n",
    "Near-Clifford circuits are selected due to their capability to be efficiently simulated classically, and are denoted by $S_\\psi=\\{|\\phi_i\\rangle\\}_i$.\n",
    "\n",
    "## Step 2: Construct the Training Set \n",
    "\n",
    "The training set $\\{(X_{\\phi_i}^{\\text{error}}, X_{\\phi_i}^{\\text{exact}})\\}_i$ is constructed by calculating the expectation values of $X$ for each state $|\\phi_i\\rangle$ in $S_\\psi$, on both a quantum computer (to obtain $X_{\\phi_i}^{\\text{error}}$) and a classical computer (to obtain $X_{\\phi_i}^{\\text{exact}}$).\n",
    "\n",
    "## Step 3: Learn the Error Mitigation Model\n",
    "\n",
    "A model $f(X^{\\text{error}}, a)$ for $X^{exact}$ is defined and learned. Here, $a$ is the set of parameters to be determined. This is achieved by minimizing the distance between the training set, as expressed by the following optimization problem:\n",
    "\n",
    "$$a_{opt} = \\underset{a}{\\text{argmin}} \\sum_i \\left| X_{\\phi_i}^{\\text{exact}} - f(X_{\\phi_i}^{\\text{error}},a) \\right|^2.$$\n",
    "\n",
    "In this expression, $a_{opt}$ are the parameters that minimize the cost function.\n",
    "\n",
    "## Step 4: Apply the Error Mitigation Model\n",
    "\n",
    "Finally, the learned model $f(X^{\\text{error}}, a_{opt})$ is used to correct the expectation values of $X$ for new quantum states, expressed as $X_\\psi^{\\text{exact}} = f(X_\\psi^{\\text{error}}, a_{opt})$.\n",
    "\n",
    "The effectiveness of this method has been proven on circuits with up to 64 qubits and for tasks such as estimating ground-state energies. However, its performance is dependent on the task, the system, the quality of the training data, and the choice of model.\n",
    "\n"
   ]
  },
  {
   "cell_type": "markdown",
   "id": "5cf82b704acdb68",
   "metadata": {
    "collapsed": false
   },
   "source": [
    "# How do I use CDR?\n",
    "\n",
    "Here we show how to use CDR by means of a simple example."
   ]
  },
  {
   "cell_type": "code",
   "execution_count": 1,
   "id": "f9aba8ff9e09f288",
   "metadata": {
    "collapsed": false,
    "ExecuteTime": {
     "end_time": "2023-12-13T22:47:19.650271603Z",
     "start_time": "2023-12-13T22:47:18.497682976Z"
    }
   },
   "outputs": [],
   "source": [
    "import numpy as np\n",
    "import warnings\n",
    "warnings.simplefilter(\"ignore\", np.ComplexWarning)\n",
    "\n",
    "import cirq\n",
    "from mitiq import cdr, Observable, PauliString"
   ]
  },
  {
   "cell_type": "markdown",
   "id": "66c0e92afee8e2e4",
   "metadata": {
    "collapsed": false
   },
   "source": [
    "\n",
    "## Problem setup\n",
    "\n",
    "To use CDR, we call {func}`.cdr.execute_with_cdr` with four \"ingredients\":\n",
    "\n",
    "1. A quantum circuit to prepare a state $\\rho$.\n",
    "1. A quantum computer or noisy simulator to return a {class}`.QuantumResult` from $\\rho$.\n",
    "1. An observable $O$ which specifies what we wish to compute via $\\text{Tr} [ \\rho O ]$.\n",
    "1. A near-Clifford (classical) circuit simulator.\n",
    "\n",
    "\n",
    "### 1. Define a quantum circuit\n",
    "\n",
    "The quantum circuit can be specified as any quantum circuit supported by Mitiq but\n",
    "**must be compiled into a gateset in which the only non-Clifford gates are\n",
    "single-qubit rotations around the $Z$ axis: $R_Z(\\theta)$**.  For example:\n",
    "\n",
    "$$\\{ \\sqrt{X}, R_Z(\\theta), \\text{CNOT}\\},$$\n",
    "$$\\{{R_X(\\pi/2)}, R_Z(\\theta), \\text{CZ}\\},$$\n",
    "$$\\{H, S, R_Z(\\theta), \\text{CNOT}\\},$$\n",
    "$$ \\dots$$\n",
    "\n",
    "In the next cell we define (as an example) a quantum circuit which contains some\n",
    "Clifford gates and some non-Clifford $R_Z(\\theta)$ rotations.\n"
   ]
  },
  {
   "cell_type": "code",
   "execution_count": 2,
   "id": "7f65a3a7cc206c8a",
   "metadata": {
    "collapsed": false,
    "ExecuteTime": {
     "end_time": "2023-12-13T22:47:19.743119105Z",
     "start_time": "2023-12-13T22:47:19.738749781Z"
    }
   },
   "outputs": [],
   "source": [
    "a, b = cirq.LineQubit.range(2)\n",
    "circuit = cirq.Circuit(\n",
    "    cirq.H.on(a), # Clifford\n",
    "    cirq.H.on(b), # Clifford\n",
    "    cirq.rz(1.75).on(a),\n",
    "    cirq.rz(2.31).on(b),\n",
    "    cirq.CNOT.on(a, b),  # Clifford\n",
    "    cirq.rz(-1.17).on(b),\n",
    "    cirq.rz(3.23).on(a),\n",
    "    cirq.rx(np.pi / 2).on(a),  # Clifford\n",
    "    cirq.rx(np.pi / 2).on(b),  # Clifford\n",
    ")\n",
    "\n",
    "# CDR works better if the circuit is not too short. So we increase its depth.\n",
    "circuit = 5 * circuit"
   ]
  },
  {
   "cell_type": "markdown",
   "source": [
    "### Define an executor\n"
   ],
   "metadata": {
    "collapsed": false
   },
   "id": "d449a3c6ca7bb737"
  },
  {
   "cell_type": "code",
   "execution_count": 3,
   "outputs": [
    {
     "data": {
      "text/plain": "array([[ 0.834+0.j   , -0.027+0.075j, -0.004+0.061j, -0.022-0.052j],\n       [-0.027-0.075j,  0.057-0.j   ,  0.007-0.006j, -0.003+0.002j],\n       [-0.004-0.061j,  0.007+0.006j,  0.053+0.j   , -0.005+0.004j],\n       [-0.022+0.052j, -0.003-0.002j, -0.005-0.004j,  0.056+0.j   ]],\n      dtype=complex64)"
     },
     "execution_count": 3,
     "metadata": {},
     "output_type": "execute_result"
    }
   ],
   "source": [
    "from mitiq.interface.mitiq_cirq import compute_density_matrix\n",
    "\n",
    "compute_density_matrix(circuit).round(3)\n"
   ],
   "metadata": {
    "collapsed": false,
    "ExecuteTime": {
     "end_time": "2023-12-13T22:47:19.777108010Z",
     "start_time": "2023-12-13T22:47:19.741360880Z"
    }
   },
   "id": "aedaad520eae7a33"
  },
  {
   "cell_type": "markdown",
   "source": [
    "### Observable\n",
    "As an example, assume that we wish to compute the expectation value $\\text{Tr} [ \\rho O ]$ of the following observable $O$:"
   ],
   "metadata": {
    "collapsed": false
   },
   "id": "d9ab8209c49b7398"
  },
  {
   "cell_type": "code",
   "execution_count": 4,
   "outputs": [
    {
     "name": "stdout",
     "output_type": "stream",
     "text": [
      "Z(q(0))*Z(q(1)) + (-1.75+0j)*X(q(0))\n"
     ]
    }
   ],
   "source": [
    "# Observable to measure.\n",
    "obs = Observable(PauliString(\"ZZ\"), PauliString(\"X\", coeff=-1.75))\n",
    "print(obs)"
   ],
   "metadata": {
    "collapsed": false,
    "ExecuteTime": {
     "end_time": "2023-12-13T22:47:19.785796349Z",
     "start_time": "2023-12-13T22:47:19.776727262Z"
    }
   },
   "id": "a62c6c8f6cdb5364"
  },
  {
   "cell_type": "markdown",
   "source": [
    "### (Near-Clifford) Simulator\n",
    "The CDR method creates a set of \"training circuits\" which are related to the input circuit and are efficiently simulable. These circuits are simulated on a classical (noiseless) simulator to collect data for regression. The simulator should also return a `QuantumResult`."
   ],
   "metadata": {
    "collapsed": false
   },
   "id": "318a565b616bf5e"
  },
  {
   "cell_type": "code",
   "execution_count": 5,
   "outputs": [
    {
     "data": {
      "text/plain": "array([[ 0.982-0.j   , -0.016+0.081j, -0.004+0.049j, -0.049-0.075j],\n       [-0.016-0.081j,  0.007-0.j   ,  0.004-0.j   , -0.005+0.005j],\n       [-0.004-0.049j,  0.004+0.j   ,  0.002+0.j   , -0.004+0.003j],\n       [-0.049+0.075j, -0.005-0.005j, -0.004-0.003j,  0.008+0.j   ]],\n      dtype=complex64)"
     },
     "execution_count": 5,
     "metadata": {},
     "output_type": "execute_result"
    }
   ],
   "source": [
    "def simulate(circuit: cirq.Circuit) -> np.ndarray:\n",
    "    return compute_density_matrix(circuit, noise_level=(0.0,))\n",
    "\n",
    "simulate(circuit).round(3)"
   ],
   "metadata": {
    "collapsed": false,
    "ExecuteTime": {
     "end_time": "2023-12-13T22:47:19.838721110Z",
     "start_time": "2023-12-13T22:47:19.780232432Z"
    }
   },
   "id": "5d40c4f19fc89deb"
  },
  {
   "cell_type": "markdown",
   "id": "d6d1e01094cd2686",
   "metadata": {
    "collapsed": false
   },
   "source": [
    "# Run CDR\n",
    "We first compute the noiseless result then the noisy result to compare to the mitigated result from CDR."
   ]
  },
  {
   "cell_type": "markdown",
   "id": "8b34e26bec15ec93",
   "metadata": {
    "collapsed": false
   },
   "source": []
  },
  {
   "cell_type": "code",
   "execution_count": 6,
   "id": "b55972cbaeef4b18",
   "metadata": {
    "collapsed": false,
    "ExecuteTime": {
     "end_time": "2023-12-13T22:47:20.047849172Z",
     "start_time": "2023-12-13T22:47:19.838268385Z"
    }
   },
   "outputs": [
    {
     "name": "stdout",
     "output_type": "stream",
     "text": [
      "ideal_measurement =  1.0153722763061523\n",
      "unmitigated_measurement =  0.8030939102172852\n",
      "mitigated_measurement =  1.0307368605094165\n",
      "Error (unmitigated): 0.2122783660888672\n",
      "Error (mitigated with CDR): 0.015364584203264142\n",
      "Relative error (unmitigated): 0.20906456778701882\n",
      "Relative error (mitigated with CDR): 0.01513197135848473\n",
      "Error reduction with CDR: 92.8%.\n"
     ]
    }
   ],
   "source": [
    "ideal_measurement = obs.expectation(circuit, simulate).real\n",
    "print(\"ideal_measurement = \",ideal_measurement)\n",
    "\n",
    "unmitigated_measurement = obs.expectation(circuit, compute_density_matrix).real\n",
    "print(\"unmitigated_measurement = \", unmitigated_measurement)\n",
    "\n",
    "mitigated_measurement = cdr.execute_with_cdr(\n",
    "    circuit,\n",
    "    compute_density_matrix,\n",
    "    observable=obs,\n",
    "    simulator=simulate,\n",
    "    seed=0,\n",
    ").real\n",
    "print(\"mitigated_measurement = \", mitigated_measurement)\n",
    "\n",
    "error_unmitigated = abs(unmitigated_measurement-ideal_measurement)\n",
    "error_mitigated = abs(mitigated_measurement-ideal_measurement)\n",
    "\n",
    "print(\"Error (unmitigated):\", error_unmitigated)\n",
    "print(\"Error (mitigated with CDR):\", error_mitigated)\n",
    "\n",
    "print(\"Relative error (unmitigated):\", (error_unmitigated/ideal_measurement))\n",
    "print(\"Relative error (mitigated with CDR):\", error_mitigated/ideal_measurement)\n",
    "\n",
    "print(f\"Error reduction with CDR: {(error_unmitigated-error_mitigated)/error_unmitigated :.1%}.\")\n"
   ]
  },
  {
   "cell_type": "code",
   "execution_count": 6,
   "id": "e4b944467815b61d",
   "metadata": {
    "collapsed": false,
    "ExecuteTime": {
     "end_time": "2023-12-13T22:47:20.086272348Z",
     "start_time": "2023-12-13T22:47:20.044283343Z"
    }
   },
   "outputs": [],
   "source": []
  }
 ],
 "metadata": {
  "kernelspec": {
   "display_name": "Python 3 (ipykernel)",
   "language": "python",
   "name": "python3"
  },
  "language_info": {
   "codemirror_mode": {
    "name": "ipython",
    "version": 3
   },
   "file_extension": ".py",
   "mimetype": "text/x-python",
   "name": "python",
   "nbconvert_exporter": "python",
   "pygments_lexer": "ipython3",
   "version": "3.8.18"
  }
 },
 "nbformat": 4,
 "nbformat_minor": 5
}

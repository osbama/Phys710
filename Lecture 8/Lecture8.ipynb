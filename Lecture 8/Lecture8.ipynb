{
 "cells": [
  {
   "cell_type": "markdown",
   "id": "64491b55b0643974",
   "metadata": {
    "collapsed": false
   },
   "source": [
    "![](./mitiq-logo.png)\n",
    "\n",
    "[Mitiq](https://quantum-journal.org/papers/q-2022-08-11-774/) is a Python toolkit for implementing error mitigation techniques on quantum computers.\n",
    "\n",
    "Current quantum computers are noisy due to interactions with the environment, imperfect gate applications, state preparation and measurement errors, etc. Error mitigation seeks to reduce these effects at the software level by compiling quantum programs in clever ways."
   ]
  },
  {
   "cell_type": "markdown",
   "id": "13f873e71b489b39",
   "metadata": {
    "collapsed": false
   },
   "source": [
    "# Clifford Data Regression\n",
    "\n",
    "Clifford data regression (CDR) is a learning-based quantum error mitigation technique in which an error mitigation model is trained with quantum circuits that _resemble_ the circuit of interest, but which are easier to classically simulate [1](https://link.aps.org/doi/10.1103/PhysRevResearch.3.033098), [2](http://dx.doi.org/10.22331/q-2021-11-26-592).\n",
    "\n",
    "![](./cdr_workflow2_steps.png)\n",
    "\n",
    "The CDR workflow Figure above shows a schema of the implementation of CDR in Mitiq. Similarly to ZNE and PEC, also CDR in Mitiq is divided in two main stages: The first one of circuit generation and the second for inference of the mitigated value. However, in CDR, the generation of quantum circuits is different, as it involves the generation of training circuits. The division of CDR into training, learning and prediction stages is shown in the figure below.\n",
    "\n",
    "\n",
    "![](./cdr_diagram2.png)\n",
    "\n",
    "Near-Clifford approximations of the actual circuit are simulated, without noise, on a classical simulator (circuits can be efficiently simulated classically) and executed on the noisy quantum computer (or a noisy simulator). These results are used as training data to infer the zero-noise expectation value of the error miitigated original circuit, that is finally run on the quantum computer (or noisy simulator)\n",
    "\n",
    "# When should I use CDR?\n",
    "\n",
    "## Advantages\n",
    "\n",
    "The main advantage of CDR is that it can be applied without knowing the specific details of the noise\n",
    "model. Indeed, in CDR, the effects of noise are indirectly _learned_ through the execution of an appropriate\n",
    "set of test circuits. In this way, the final error mitigation inference tends to self-tune with respect\n",
    "to the used backend.\n",
    "\n",
    "This self-tuning property is even stronger in the case of _variable-noise-CDR_, i.e., when using the _scale_factors_ option\n",
    "in {func}`.execute_with_cdr`. In this case, the final error mitigated expectation value is obtained\n",
    "as a linear combination of noise-scaled expectation values. This is similar to the [ZNE approach](zne-5-theory.md) but, in CDR, \n",
    "the coefficients of the linear combination are learned instead of being fixed by the extrapolation model.\n",
    "\n",
    "\n",
    "## Disadvantages\n",
    "\n",
    "The main disadvantage of CDR is that the learning process is performed on a suite of test circuits which\n",
    "only _resemble_ the original circuit of interest. Indeed, test circuits are _near-Clifford approximations_\n",
    "of the original one. Only when the approximation is justified, the application of CDR can produce meaningful\n",
    "results.\n",
    "Increasing the `fraction_non_clifford` option in {func}`.execute_with_cdr` can alleviate this problem\n",
    "to some extent. Note that, the larger `fraction_non_clifford` is, the larger the classical computation overhead is.\n",
    "\n",
    "Another relevant aspect to consider is that, to apply CDR in a scalable way, a valid near-Clifford simulator\n",
    "is necessary. Note that the computation cost of a valid near-Clifford simulator should scale with the number of non-Clifford\n",
    "gates, independently from the circuit depth. Only in this case, the learning phase of CDR can be applied efficiently.\n"
   ]
  },
  {
   "cell_type": "markdown",
   "id": "885fe3f9b086a898",
   "metadata": {
    "collapsed": false
   },
   "source": [
    "# What is the theory behind CDR?\n",
    "\n",
    "Clifford data regression (CDR) is a quantum error mitigation technique that has been introduced in Ref. {cite}`Czarnik_2021_Quantum` and extended to variable-noise CDR in Ref. {cite}`Lowe_2021_PRR`.\n",
    ". The presented error mitigation (EM) strategy is designed for gate-based quantum computers. This method primarily consists of creating a training data set $\\{(X_{\\phi_i}^{\\text{error}}, X_{\\phi_i}^{\\text{exact}})\\}$, where $X_{\\phi_i}^{\\text{error}}$ and $X_{\\phi_i}^{\\text{exact}}$ are the expectation values of an observable $X$ for a state $|\\phi_i\\rangle$ under error and error-free conditions, respectively. \n",
    "\n",
    "This method includes the following steps:\n",
    "\n",
    "## Step 1: Choose Near-Clifford Circuits for Training\n",
    "\n",
    "Near-Clifford circuits are selected due to their capability to be efficiently simulated classically, and are denoted by $S_\\psi=\\{|\\phi_i\\rangle\\}_i$.\n",
    "\n",
    "## Step 2: Construct the Training Set \n",
    "\n",
    "The training set $\\{(X_{\\phi_i}^{\\text{error}}, X_{\\phi_i}^{\\text{exact}})\\}_i$ is constructed by calculating the expectation values of $X$ for each state $|\\phi_i\\rangle$ in $S_\\psi$, on both a quantum computer (to obtain $X_{\\phi_i}^{\\text{error}}$) and a classical computer (to obtain $X_{\\phi_i}^{\\text{exact}}$).\n",
    "\n",
    "## Step 3: Learn the Error Mitigation Model\n",
    "\n",
    "A model $f(X^{\\text{error}}, a)$ for $X^{exact}$ is defined and learned. Here, $a$ is the set of parameters to be determined. This is achieved by minimizing the distance between the training set, as expressed by the following optimization problem:\n",
    "\n",
    "$$a_{opt} = \\underset{a}{\\text{argmin}} \\sum_i \\left| X_{\\phi_i}^{\\text{exact}} - f(X_{\\phi_i}^{\\text{error}},a) \\right|^2.$$\n",
    "\n",
    "In this expression, $a_{opt}$ are the parameters that minimize the cost function.\n",
    "\n",
    "## Step 4: Apply the Error Mitigation Model\n",
    "\n",
    "Finally, the learned model $f(X^{\\text{error}}, a_{opt})$ is used to correct the expectation values of $X$ for new quantum states, expressed as $X_\\psi^{\\text{exact}} = f(X_\\psi^{\\text{error}}, a_{opt})$.\n",
    "\n",
    "The effectiveness of this method has been proven on circuits with up to 64 qubits and for tasks such as estimating ground-state energies. However, its performance is dependent on the task, the system, the quality of the training data, and the choice of model.\n",
    "\n"
   ]
  },
  {
   "cell_type": "markdown",
   "id": "5cf82b704acdb68",
   "metadata": {
    "collapsed": false
   },
   "source": [
    "# How do I use CDR?\n",
    "\n",
    "Here we show how to use CDR by means of a simple example."
   ]
  },
  {
   "cell_type": "code",
   "execution_count": 4,
   "id": "f9aba8ff9e09f288",
   "metadata": {
    "collapsed": false,
    "ExecuteTime": {
     "end_time": "2023-12-13T22:39:25.750481418Z",
     "start_time": "2023-12-13T22:39:25.554415913Z"
    }
   },
   "outputs": [
    {
     "ename": "ImportError",
     "evalue": "libcudart.so.12: cannot open shared object file: No such file or directory",
     "output_type": "error",
     "traceback": [
      "\u001B[0;31m---------------------------------------------------------------------------\u001B[0m",
      "\u001B[0;31mImportError\u001B[0m                               Traceback (most recent call last)",
      "Cell \u001B[0;32mIn[4], line 7\u001B[0m\n\u001B[1;32m      5\u001B[0m \u001B[38;5;28;01mimport\u001B[39;00m \u001B[38;5;21;01mqiskit\u001B[39;00m\n\u001B[1;32m      6\u001B[0m \u001B[38;5;28;01mfrom\u001B[39;00m \u001B[38;5;21;01mmitiq\u001B[39;00m \u001B[38;5;28;01mimport\u001B[39;00m cdr, Observable, PauliString\n\u001B[0;32m----> 7\u001B[0m \u001B[38;5;28;01mfrom\u001B[39;00m \u001B[38;5;21;01mmitiq\u001B[39;00m\u001B[38;5;21;01m.\u001B[39;00m\u001B[38;5;21;01minterface\u001B[39;00m \u001B[38;5;28;01mimport\u001B[39;00m mitiq_qiskit\n\u001B[1;32m      9\u001B[0m \u001B[38;5;28;01mfrom\u001B[39;00m \u001B[38;5;21;01mqiskit_aer\u001B[39;00m\u001B[38;5;21;01m.\u001B[39;00m\u001B[38;5;21;01mnoise\u001B[39;00m \u001B[38;5;28;01mimport\u001B[39;00m NoiseModel\n\u001B[1;32m     10\u001B[0m \u001B[38;5;28;01mfrom\u001B[39;00m \u001B[38;5;21;01mqiskit\u001B[39;00m\u001B[38;5;21;01m.\u001B[39;00m\u001B[38;5;21;01mproviders\u001B[39;00m\u001B[38;5;21;01m.\u001B[39;00m\u001B[38;5;21;01mfake_provider\u001B[39;00m \u001B[38;5;28;01mimport\u001B[39;00m FakeVigo\n",
      "File \u001B[0;32m~/Prog/miniconda3/envs/Phys710/lib/python3.8/site-packages/mitiq/interface/mitiq_qiskit/__init__.py:12\u001B[0m\n\u001B[1;32m      1\u001B[0m \u001B[38;5;66;03m# Copyright (C) Unitary Fund\u001B[39;00m\n\u001B[1;32m      2\u001B[0m \u001B[38;5;66;03m#\u001B[39;00m\n\u001B[1;32m      3\u001B[0m \u001B[38;5;66;03m# This source code is licensed under the GPL license (v3) found in the\u001B[39;00m\n\u001B[1;32m      4\u001B[0m \u001B[38;5;66;03m# LICENSE file in the root directory of this source tree.\u001B[39;00m\n\u001B[1;32m      6\u001B[0m \u001B[38;5;28;01mfrom\u001B[39;00m \u001B[38;5;21;01mmitiq\u001B[39;00m\u001B[38;5;21;01m.\u001B[39;00m\u001B[38;5;21;01minterface\u001B[39;00m\u001B[38;5;21;01m.\u001B[39;00m\u001B[38;5;21;01mmitiq_qiskit\u001B[39;00m\u001B[38;5;21;01m.\u001B[39;00m\u001B[38;5;21;01mconversions\u001B[39;00m \u001B[38;5;28;01mimport\u001B[39;00m (\n\u001B[1;32m      7\u001B[0m     from_qasm,\n\u001B[1;32m      8\u001B[0m     from_qiskit,\n\u001B[1;32m      9\u001B[0m     to_qasm,\n\u001B[1;32m     10\u001B[0m     to_qiskit,\n\u001B[1;32m     11\u001B[0m )\n\u001B[0;32m---> 12\u001B[0m \u001B[38;5;28;01mfrom\u001B[39;00m \u001B[38;5;21;01mmitiq\u001B[39;00m\u001B[38;5;21;01m.\u001B[39;00m\u001B[38;5;21;01minterface\u001B[39;00m\u001B[38;5;21;01m.\u001B[39;00m\u001B[38;5;21;01mmitiq_qiskit\u001B[39;00m\u001B[38;5;21;01m.\u001B[39;00m\u001B[38;5;21;01mqiskit_utils\u001B[39;00m \u001B[38;5;28;01mimport\u001B[39;00m (\n\u001B[1;32m     13\u001B[0m     execute,\n\u001B[1;32m     14\u001B[0m     execute_with_shots,\n\u001B[1;32m     15\u001B[0m     execute_with_noise,\n\u001B[1;32m     16\u001B[0m     execute_with_shots_and_noise,\n\u001B[1;32m     17\u001B[0m     initialized_depolarizing_noise,\n\u001B[1;32m     18\u001B[0m )\n",
      "File \u001B[0;32m~/Prog/miniconda3/envs/Phys710/lib/python3.8/site-packages/mitiq/interface/mitiq_qiskit/qiskit_utils.py:15\u001B[0m\n\u001B[1;32m     13\u001B[0m \u001B[38;5;28;01mfrom\u001B[39;00m \u001B[38;5;21;01mqiskit\u001B[39;00m \u001B[38;5;28;01mimport\u001B[39;00m QuantumCircuit\n\u001B[1;32m     14\u001B[0m \u001B[38;5;28;01mfrom\u001B[39;00m \u001B[38;5;21;01mqiskit\u001B[39;00m\u001B[38;5;21;01m.\u001B[39;00m\u001B[38;5;21;01mproviders\u001B[39;00m \u001B[38;5;28;01mimport\u001B[39;00m Backend\n\u001B[0;32m---> 15\u001B[0m \u001B[38;5;28;01mfrom\u001B[39;00m \u001B[38;5;21;01mqiskit_aer\u001B[39;00m \u001B[38;5;28;01mimport\u001B[39;00m AerSimulator\n\u001B[1;32m     17\u001B[0m \u001B[38;5;66;03m# Noise simulation packages\u001B[39;00m\n\u001B[1;32m     18\u001B[0m \u001B[38;5;28;01mfrom\u001B[39;00m \u001B[38;5;21;01mqiskit_aer\u001B[39;00m\u001B[38;5;21;01m.\u001B[39;00m\u001B[38;5;21;01mnoise\u001B[39;00m \u001B[38;5;28;01mimport\u001B[39;00m NoiseModel\n",
      "File \u001B[0;32m~/Prog/miniconda3/envs/Phys710/lib/python3.8/site-packages/qiskit_aer/__init__.py:70\u001B[0m\n\u001B[1;32m     66\u001B[0m     np\u001B[38;5;241m.\u001B[39mdot(np\u001B[38;5;241m.\u001B[39mzeros(\u001B[38;5;241m100\u001B[39m), np\u001B[38;5;241m.\u001B[39mzeros(\u001B[38;5;241m100\u001B[39m))\n\u001B[1;32m     67\u001B[0m \u001B[38;5;66;03m# ... ¯\\_(ツ)_/¯\u001B[39;00m\n\u001B[1;32m     68\u001B[0m \n\u001B[1;32m     69\u001B[0m \u001B[38;5;66;03m# pylint: disable=wrong-import-position\u001B[39;00m\n\u001B[0;32m---> 70\u001B[0m \u001B[38;5;28;01mfrom\u001B[39;00m \u001B[38;5;21;01mqiskit_aer\u001B[39;00m\u001B[38;5;21;01m.\u001B[39;00m\u001B[38;5;21;01maerprovider\u001B[39;00m \u001B[38;5;28;01mimport\u001B[39;00m AerProvider\n\u001B[1;32m     71\u001B[0m \u001B[38;5;28;01mfrom\u001B[39;00m \u001B[38;5;21;01mqiskit_aer\u001B[39;00m\u001B[38;5;21;01m.\u001B[39;00m\u001B[38;5;21;01mjobs\u001B[39;00m \u001B[38;5;28;01mimport\u001B[39;00m AerJob, AerJobSet\n\u001B[1;32m     72\u001B[0m \u001B[38;5;28;01mfrom\u001B[39;00m \u001B[38;5;21;01mqiskit_aer\u001B[39;00m\u001B[38;5;21;01m.\u001B[39;00m\u001B[38;5;21;01maererror\u001B[39;00m \u001B[38;5;28;01mimport\u001B[39;00m AerError\n",
      "File \u001B[0;32m~/Prog/miniconda3/envs/Phys710/lib/python3.8/site-packages/qiskit_aer/aerprovider.py:21\u001B[0m\n\u001B[1;32m     18\u001B[0m \u001B[38;5;28;01mfrom\u001B[39;00m \u001B[38;5;21;01mqiskit\u001B[39;00m\u001B[38;5;21;01m.\u001B[39;00m\u001B[38;5;21;01mproviders\u001B[39;00m \u001B[38;5;28;01mimport\u001B[39;00m ProviderV1 \u001B[38;5;28;01mas\u001B[39;00m Provider\n\u001B[1;32m     19\u001B[0m \u001B[38;5;28;01mfrom\u001B[39;00m \u001B[38;5;21;01mqiskit\u001B[39;00m\u001B[38;5;21;01m.\u001B[39;00m\u001B[38;5;21;01mproviders\u001B[39;00m\u001B[38;5;21;01m.\u001B[39;00m\u001B[38;5;21;01mproviderutils\u001B[39;00m \u001B[38;5;28;01mimport\u001B[39;00m filter_backends\n\u001B[0;32m---> 21\u001B[0m \u001B[38;5;28;01mfrom\u001B[39;00m \u001B[38;5;21;01m.\u001B[39;00m\u001B[38;5;21;01mbackends\u001B[39;00m\u001B[38;5;21;01m.\u001B[39;00m\u001B[38;5;21;01maer_simulator\u001B[39;00m \u001B[38;5;28;01mimport\u001B[39;00m AerSimulator\n\u001B[1;32m     22\u001B[0m \u001B[38;5;28;01mfrom\u001B[39;00m \u001B[38;5;21;01m.\u001B[39;00m\u001B[38;5;21;01mbackends\u001B[39;00m\u001B[38;5;21;01m.\u001B[39;00m\u001B[38;5;21;01mqasm_simulator\u001B[39;00m \u001B[38;5;28;01mimport\u001B[39;00m QasmSimulator\n\u001B[1;32m     23\u001B[0m \u001B[38;5;28;01mfrom\u001B[39;00m \u001B[38;5;21;01m.\u001B[39;00m\u001B[38;5;21;01mbackends\u001B[39;00m\u001B[38;5;21;01m.\u001B[39;00m\u001B[38;5;21;01mstatevector_simulator\u001B[39;00m \u001B[38;5;28;01mimport\u001B[39;00m StatevectorSimulator\n",
      "File \u001B[0;32m~/Prog/miniconda3/envs/Phys710/lib/python3.8/site-packages/qiskit_aer/backends/__init__.py:17\u001B[0m\n\u001B[1;32m      1\u001B[0m \u001B[38;5;66;03m# This code is part of Qiskit.\u001B[39;00m\n\u001B[1;32m      2\u001B[0m \u001B[38;5;66;03m#\u001B[39;00m\n\u001B[1;32m      3\u001B[0m \u001B[38;5;66;03m# (C) Copyright IBM 2018, 2019.\u001B[39;00m\n\u001B[0;32m   (...)\u001B[0m\n\u001B[1;32m     10\u001B[0m \u001B[38;5;66;03m# copyright notice, and modified files need to carry a notice indicating\u001B[39;00m\n\u001B[1;32m     11\u001B[0m \u001B[38;5;66;03m# that they have been altered from the originals.\u001B[39;00m\n\u001B[1;32m     13\u001B[0m \u001B[38;5;124;03m\"\"\"\u001B[39;00m\n\u001B[1;32m     14\u001B[0m \u001B[38;5;124;03mAer Provider Simulator Backends\u001B[39;00m\n\u001B[1;32m     15\u001B[0m \u001B[38;5;124;03m\"\"\"\u001B[39;00m\n\u001B[0;32m---> 17\u001B[0m \u001B[38;5;28;01mfrom\u001B[39;00m \u001B[38;5;21;01m.\u001B[39;00m\u001B[38;5;21;01maer_simulator\u001B[39;00m \u001B[38;5;28;01mimport\u001B[39;00m AerSimulator\n\u001B[1;32m     18\u001B[0m \u001B[38;5;28;01mfrom\u001B[39;00m \u001B[38;5;21;01m.\u001B[39;00m\u001B[38;5;21;01mqasm_simulator\u001B[39;00m \u001B[38;5;28;01mimport\u001B[39;00m QasmSimulator\n\u001B[1;32m     19\u001B[0m \u001B[38;5;28;01mfrom\u001B[39;00m \u001B[38;5;21;01m.\u001B[39;00m\u001B[38;5;21;01mstatevector_simulator\u001B[39;00m \u001B[38;5;28;01mimport\u001B[39;00m StatevectorSimulator\n",
      "File \u001B[0;32m~/Prog/miniconda3/envs/Phys710/lib/python3.8/site-packages/qiskit_aer/backends/aer_simulator.py:24\u001B[0m\n\u001B[1;32m     21\u001B[0m \u001B[38;5;28;01mfrom\u001B[39;00m \u001B[38;5;21;01mqiskit\u001B[39;00m\u001B[38;5;21;01m.\u001B[39;00m\u001B[38;5;21;01mtranspiler\u001B[39;00m\u001B[38;5;21;01m.\u001B[39;00m\u001B[38;5;21;01mtarget\u001B[39;00m \u001B[38;5;28;01mimport\u001B[39;00m target_to_backend_properties\n\u001B[1;32m     23\u001B[0m \u001B[38;5;28;01mfrom\u001B[39;00m \u001B[38;5;21;01m.\u001B[39;00m\u001B[38;5;21;01m.\u001B[39;00m\u001B[38;5;21;01mversion\u001B[39;00m \u001B[38;5;28;01mimport\u001B[39;00m __version__\n\u001B[0;32m---> 24\u001B[0m \u001B[38;5;28;01mfrom\u001B[39;00m \u001B[38;5;21;01m.\u001B[39;00m\u001B[38;5;21;01maerbackend\u001B[39;00m \u001B[38;5;28;01mimport\u001B[39;00m AerBackend, AerError\n\u001B[1;32m     25\u001B[0m \u001B[38;5;28;01mfrom\u001B[39;00m \u001B[38;5;21;01m.\u001B[39;00m\u001B[38;5;21;01mbackend_utils\u001B[39;00m \u001B[38;5;28;01mimport\u001B[39;00m (\n\u001B[1;32m     26\u001B[0m     cpp_execute_circuits,\n\u001B[1;32m     27\u001B[0m     cpp_execute_qobj,\n\u001B[0;32m   (...)\u001B[0m\n\u001B[1;32m     31\u001B[0m     BASIS_GATES,\n\u001B[1;32m     32\u001B[0m )\n\u001B[1;32m     34\u001B[0m \u001B[38;5;66;03m# pylint: disable=import-error, no-name-in-module\u001B[39;00m\n",
      "File \u001B[0;32m~/Prog/miniconda3/envs/Phys710/lib/python3.8/site-packages/qiskit_aer/backends/aerbackend.py:35\u001B[0m\n\u001B[1;32m     33\u001B[0m \u001B[38;5;28;01mfrom\u001B[39;00m \u001B[38;5;21;01m.\u001B[39;00m\u001B[38;5;21;01m.\u001B[39;00m\u001B[38;5;21;01mnoise\u001B[39;00m\u001B[38;5;21;01m.\u001B[39;00m\u001B[38;5;21;01mnoise_model\u001B[39;00m \u001B[38;5;28;01mimport\u001B[39;00m NoiseModel, QuantumErrorLocation\n\u001B[1;32m     34\u001B[0m \u001B[38;5;28;01mfrom\u001B[39;00m \u001B[38;5;21;01m.\u001B[39;00m\u001B[38;5;21;01m.\u001B[39;00m\u001B[38;5;21;01mnoise\u001B[39;00m\u001B[38;5;21;01m.\u001B[39;00m\u001B[38;5;21;01merrors\u001B[39;00m\u001B[38;5;21;01m.\u001B[39;00m\u001B[38;5;21;01mquantum_error\u001B[39;00m \u001B[38;5;28;01mimport\u001B[39;00m QuantumChannelInstruction\n\u001B[0;32m---> 35\u001B[0m \u001B[38;5;28;01mfrom\u001B[39;00m \u001B[38;5;21;01m.\u001B[39;00m\u001B[38;5;21;01maer_compiler\u001B[39;00m \u001B[38;5;28;01mimport\u001B[39;00m compile_circuit, assemble_circuits, generate_aer_config\n\u001B[1;32m     36\u001B[0m \u001B[38;5;28;01mfrom\u001B[39;00m \u001B[38;5;21;01m.\u001B[39;00m\u001B[38;5;21;01mbackend_utils\u001B[39;00m \u001B[38;5;28;01mimport\u001B[39;00m format_save_type, circuit_optypes\n\u001B[1;32m     38\u001B[0m \u001B[38;5;66;03m# pylint: disable=import-error, no-name-in-module\u001B[39;00m\n",
      "File \u001B[0;32m~/Prog/miniconda3/envs/Phys710/lib/python3.8/site-packages/qiskit_aer/backends/aer_compiler.py:34\u001B[0m\n\u001B[1;32m     31\u001B[0m \u001B[38;5;28;01mfrom\u001B[39;00m \u001B[38;5;21;01mqiskit_aer\u001B[39;00m\u001B[38;5;21;01m.\u001B[39;00m\u001B[38;5;21;01mnoise\u001B[39;00m \u001B[38;5;28;01mimport\u001B[39;00m NoiseModel\n\u001B[1;32m     33\u001B[0m \u001B[38;5;66;03m# pylint: disable=import-error, no-name-in-module\u001B[39;00m\n\u001B[0;32m---> 34\u001B[0m \u001B[38;5;28;01mfrom\u001B[39;00m \u001B[38;5;21;01mqiskit_aer\u001B[39;00m\u001B[38;5;21;01m.\u001B[39;00m\u001B[38;5;21;01mbackends\u001B[39;00m\u001B[38;5;21;01m.\u001B[39;00m\u001B[38;5;21;01mcontroller_wrappers\u001B[39;00m \u001B[38;5;28;01mimport\u001B[39;00m AerCircuit, AerConfig\n\u001B[1;32m     35\u001B[0m \u001B[38;5;28;01mfrom\u001B[39;00m \u001B[38;5;21;01m.\u001B[39;00m\u001B[38;5;21;01mbackend_utils\u001B[39;00m \u001B[38;5;28;01mimport\u001B[39;00m circuit_optypes\n\u001B[1;32m     36\u001B[0m \u001B[38;5;28;01mfrom\u001B[39;00m \u001B[38;5;21;01m.\u001B[39;00m\u001B[38;5;21;01m.\u001B[39;00m\u001B[38;5;21;01mlibrary\u001B[39;00m\u001B[38;5;21;01m.\u001B[39;00m\u001B[38;5;21;01mcontrol_flow_instructions\u001B[39;00m \u001B[38;5;28;01mimport\u001B[39;00m AerMark, AerJump\n",
      "\u001B[0;31mImportError\u001B[0m: libcudart.so.12: cannot open shared object file: No such file or directory"
     ]
    }
   ],
   "source": [
    "import numpy as np\n",
    "import warnings\n",
    "warnings.simplefilter(\"ignore\", np.ComplexWarning)\n",
    "\n",
    "import cirq\n",
    "from mitiq import cdr, Observable, PauliString"
   ]
  },
  {
   "cell_type": "markdown",
   "id": "66c0e92afee8e2e4",
   "metadata": {
    "collapsed": false
   },
   "source": [
    "\n",
    "## Problem setup\n",
    "\n",
    "To use CDR, we call {func}`.cdr.execute_with_cdr` with four \"ingredients\":\n",
    "\n",
    "1. A quantum circuit to prepare a state $\\rho$.\n",
    "1. A quantum computer or noisy simulator to return a {class}`.QuantumResult` from $\\rho$.\n",
    "1. An observable $O$ which specifies what we wish to compute via $\\text{Tr} [ \\rho O ]$.\n",
    "1. A near-Clifford (classical) circuit simulator.\n",
    "\n",
    "\n",
    "### 1. Define a quantum circuit\n",
    "\n",
    "The quantum circuit can be specified as any quantum circuit supported by Mitiq but\n",
    "**must be compiled into a gateset in which the only non-Clifford gates are\n",
    "single-qubit rotations around the $Z$ axis: $R_Z(\\theta)$**.  For example:\n",
    "\n",
    "$$\\{ \\sqrt{X}, R_Z(\\theta), \\text{CNOT}\\},$$\n",
    "$$\\{{R_X(\\pi/2)}, R_Z(\\theta), \\text{CZ}\\},$$\n",
    "$$\\{H, S, R_Z(\\theta), \\text{CNOT}\\},$$\n",
    "$$ \\dots$$\n",
    "\n",
    "In the next cell we define (as an example) a quantum circuit which contains some\n",
    "Clifford gates and some non-Clifford $R_Z(\\theta)$ rotations.\n"
   ]
  },
  {
   "cell_type": "code",
   "execution_count": null,
   "id": "7f65a3a7cc206c8a",
   "metadata": {
    "collapsed": false,
    "ExecuteTime": {
     "start_time": "2023-12-13T22:39:25.750445099Z"
    }
   },
   "outputs": [],
   "source": [
    "a, b = cirq.LineQubit.range(2)\n",
    "circuit = cirq.Circuit(\n",
    "    cirq.H.on(a), # Clifford\n",
    "    cirq.H.on(b), # Clifford\n",
    "    cirq.rz(1.75).on(a),\n",
    "    cirq.rz(2.31).on(b),\n",
    "    cirq.CNOT.on(a, b),  # Clifford\n",
    "    cirq.rz(-1.17).on(b),\n",
    "    cirq.rz(3.23).on(a),\n",
    "    cirq.rx(np.pi / 2).on(a),  # Clifford\n",
    "    cirq.rx(np.pi / 2).on(b),  # Clifford\n",
    ")\n",
    "\n",
    "# CDR works better if the circuit is not too short. So we increase its depth.\n",
    "circuit = 5 * circuit"
   ]
  },
  {
   "cell_type": "markdown",
   "source": [
    "### Define an executor\n"
   ],
   "metadata": {
    "collapsed": false
   },
   "id": "d449a3c6ca7bb737"
  },
  {
   "cell_type": "code",
   "execution_count": null,
   "outputs": [],
   "source": [
    "from mitiq.interface.mitiq_cirq import compute_density_matrix\n",
    "\n",
    "compute_density_matrix(circuit).round(3)\n"
   ],
   "metadata": {
    "collapsed": false,
    "ExecuteTime": {
     "end_time": "2023-12-13T22:39:25.750825317Z",
     "start_time": "2023-12-13T22:39:25.750713511Z"
    }
   },
   "id": "aedaad520eae7a33"
  },
  {
   "cell_type": "markdown",
   "source": [
    "### Observable\n",
    "As an example, assume that we wish to compute the expectation value $\\text{Tr} [ \\rho O ]$ of the following observable $O$:"
   ],
   "metadata": {
    "collapsed": false
   },
   "id": "d9ab8209c49b7398"
  },
  {
   "cell_type": "code",
   "execution_count": null,
   "outputs": [],
   "source": [
    "# Observable to measure.\n",
    "obs = Observable(PauliString(\"ZZ\"), PauliString(\"X\", coeff=-1.75))\n",
    "print(obs)"
   ],
   "metadata": {
    "collapsed": false
   },
   "id": "a62c6c8f6cdb5364"
  },
  {
   "cell_type": "markdown",
   "source": [
    "### (Near-Clifford) Simulator\n",
    "The CDR method creates a set of \"training circuits\" which are related to the input circuit and are efficiently simulable. These circuits are simulated on a classical (noiseless) simulator to collect data for regression. The simulator should also return a `QuantumResult`."
   ],
   "metadata": {
    "collapsed": false
   },
   "id": "318a565b616bf5e"
  },
  {
   "cell_type": "code",
   "execution_count": null,
   "outputs": [],
   "source": [
    "def simulate(circuit: cirq.Circuit) -> np.ndarray:\n",
    "    return compute_density_matrix(circuit, noise_level=(0.0,))\n",
    "\n",
    "simulate(circuit).round(3)"
   ],
   "metadata": {
    "collapsed": false
   },
   "id": "5d40c4f19fc89deb"
  },
  {
   "cell_type": "markdown",
   "id": "d6d1e01094cd2686",
   "metadata": {
    "collapsed": false
   },
   "source": [
    "# Run CDR\n",
    "We first compute the noiseless result then the noisy result to compare to the mitigated result from CDR."
   ]
  },
  {
   "cell_type": "markdown",
   "id": "8b34e26bec15ec93",
   "metadata": {
    "collapsed": false
   },
   "source": []
  },
  {
   "cell_type": "code",
   "execution_count": null,
   "id": "b55972cbaeef4b18",
   "metadata": {
    "collapsed": false,
    "ExecuteTime": {
     "start_time": "2023-12-13T22:39:25.750816497Z"
    }
   },
   "outputs": [],
   "source": [
    "ideal_measurement = obs.expectation(circuit, simulate).real\n",
    "print(\"ideal_measurement = \",ideal_measurement)\n",
    "\n",
    "unmitigated_measurement = obs.expectation(circuit, compute_density_matrix).real\n",
    "print(\"unmitigated_measurement = \", unmitigated_measurement)\n",
    "\n",
    "mitigated_measurement = cdr.execute_with_cdr(\n",
    "    circuit,\n",
    "    compute_density_matrix,\n",
    "    observable=obs,\n",
    "    simulator=simulate,\n",
    "    seed=0,\n",
    ").real\n",
    "print(\"mitigated_measurement = \", mitigated_measurement)\n",
    "\n",
    "error_unmitigated = abs(unmitigated_measurement-ideal_measurement)\n",
    "error_mitigated = abs(mitigated_measurement-ideal_measurement)\n",
    "\n",
    "print(\"Error (unmitigated):\", error_unmitigated)\n",
    "print(\"Error (mitigated with CDR):\", error_mitigated)\n",
    "\n",
    "print(\"Relative error (unmitigated):\", (error_unmitigated/ideal_measurement))\n",
    "print(\"Relative error (mitigated with CDR):\", error_mitigated/ideal_measurement)\n",
    "\n",
    "print(f\"Error reduction with CDR: {(error_unmitigated-error_mitigated)/error_unmitigated :.1%}.\")\n"
   ]
  },
  {
   "cell_type": "code",
   "execution_count": null,
   "id": "e4b944467815b61d",
   "metadata": {
    "collapsed": false,
    "ExecuteTime": {
     "end_time": "2023-12-13T22:39:25.751804916Z",
     "start_time": "2023-12-13T22:39:25.750909315Z"
    }
   },
   "outputs": [],
   "source": []
  }
 ],
 "metadata": {
  "kernelspec": {
   "display_name": "Python 3 (ipykernel)",
   "language": "python",
   "name": "python3"
  },
  "language_info": {
   "codemirror_mode": {
    "name": "ipython",
    "version": 3
   },
   "file_extension": ".py",
   "mimetype": "text/x-python",
   "name": "python",
   "nbconvert_exporter": "python",
   "pygments_lexer": "ipython3",
   "version": "3.8.18"
  }
 },
 "nbformat": 4,
 "nbformat_minor": 5
}

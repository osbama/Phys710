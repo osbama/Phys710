{
 "cells": [
  {
   "cell_type": "markdown",
   "id": "b81630163f869d6d",
   "metadata": {
    "id": "b81630163f869d6d"
   },
   "source": [
    "# Preliminaries\n",
    "These lectures are a mix of Qiskit Machine Learning book, our book and some exercises. They consist of a series of Jupyter notebooks.\n",
    "\n",
    "1. For running these locally, you'll need:\n",
    "   1. [Conda](https://conda.io/projects/conda/en/latest/user-guide/install/index.html)\n",
    "   2. `git` (optionally a github account)\n",
    "   3. (optional) an IDE (like Dataspell or PyCharm)\n",
    "   4. (optional) A server with GPUs  \n",
    "   you can also use services like IBMQ, however they offer very limited resources at free tier.  \n",
    "2. Create a conda environment that runs python=3.8 and has packages `qiskit-machine-learning`, `jupyter`\n",
    "3. go to [course github page](https://github.com/osbama/Phys710) and clone the repository (you'll need to pull the updates at each lecture)  "
   ]
  },
  {
   "cell_type": "markdown",
   "id": "3539823fb82697e3",
   "metadata": {
    "id": "3539823fb82697e3"
   },
   "source": [
    "# Introduction\n",
    "\n",
    "Machine learning has established itself as a successful interdisciplinary field which seeks to find patterns in data. Throwing in quantum computing gives rise to interesting areas of research that aim to use the principles of quantum mechanics to augment machine learning, or vice-versa. On this page, we aim to give you a glimpse into the exciting and rapidly changing field of near-term quantum machine learning.\n",
    "\n",
    "## Machine Learning (ML)\n",
    "\n",
    "Before we dive into quantum machine learning, let's do a whirlwind overview of machine learning. For our purposes, machine learning can be split roughly into three subfields: supervised learning, unsupervised learning, and reinforcement learning.\n",
    "\n",
    "### Supervised Learning\n",
    "\n",
    "<img alt=\"supervised.png\" src=\"https://github.com/osbama/Phys710/blob/master/Lecture%201/supervised.png?raw=1\" width=\"600\"/>\n",
    "\n",
    "Given tuples of labeled data $(x_i,y_i)$ , we aim to learn the function that maps $f:x \\mapsto y$ and generalizes to unseen inputs. For example, given a set of labeled photos of cats or dogs, we want to identify new photos of cats or dogs.\n",
    "\n",
    "### Unsupervised Learning\n",
    "\n",
    "<img alt=\"unsupervised.png\" src=\"https://github.com/osbama/Phys710/blob/master/Lecture%201/unsupervised.png?raw=1\" width=\"600\"/>\n",
    "\n",
    "Given a collection of unlabeled data $(x_i)$, we aim to learn some structure of the data; for example, grouping a set of viewers based on their movie viewing history in order to recommend new movies.\n",
    "\n",
    "### Reinforcement Learning\n",
    "\n",
    "<img alt=\"reinforcement.png\" src=\"https://github.com/osbama/Phys710/blob/master/Lecture%201/reinforcement.png?raw=1\" width=\"600\"/>\n",
    "\n",
    "Given access to an environment that rewards us based on our actions, we aim to maximise our expected rewards; for example, algorithmically learning how to play PAC-MAN.\n",
    "\n",
    "## Quantum Machine Learning (QML)\n",
    "\n",
    "There are four different approaches to combining quantum computing and machine learning, differentiated by whether the data is classical (C) or quantum (Q), or whether the algorithm runs on a classical (C) or quantum (Q) computer. CC refers to processing Classical data using Classical computers, but using algorithms inspired by quantum computing, such as this recommendation system algorithm. CQ refers to processing Classical data using Quantum machine learning algorithms, and will be what this chapter focuses on. QC refers to processing Quantum data using Classical machine learning algorithms. This is an active area of investigation, with classical machine learning algorithms used in many areas in the quantum computing, such as qubit characterization, control and readout. QQ refers to processing Quantum data using Quantum machine learning algorithms. This is an interesting topic, but very much still in its infancy.\n",
    "\n",
    "In this context, a quantum dataset consists of observations from a natural or artificial quantum system, such as measurements of qubit interactions, while a classical dataset consists of observations from a classical system, such as time series, text, or images.\n",
    "\n",
    "There are two distinct categories of QC algorithms: those that require quantum random access memory (qRAM) and those who don't. \"Random access memory\" (RAM) is data storage that can be read and changed in any order. Quantum RAM is analogous, but would also allow storing quantum states The various proposed qRAM-based QML algorithms, e.g. qPCA, qSVM and qClustering, boast exponential speedups compared to their classical algorithms, however there are currently no viable hardware candidates for realizing qRAM.\n",
    "\n",
    "Recently, most of the focus of CQ approaches to machine learning has been on near-term algorithms that can be executed on the current quantum devices. Classical machine learning techniques have made great strides in the past decade, enabled in large part by the availability of sufficiently powerful hardware. Maybe the existence of quantum hardware might enable further advances in the field.\n",
    "\n",
    "Note that this is a very dynamic area of current investigation by multiple research teams worldwide, and there are still many open questions, as well as confusing terminology and notation. We will try and be as consistent as possible in this course, but also point out when concepts have been referred to by different names, or how different concepts relate to each other."
   ]
  },
  {
   "cell_type": "markdown",
   "id": "82c83db3636b101b",
   "metadata": {
    "id": "82c83db3636b101b"
   },
   "source": [
    "# Parameterized quantum circuits\n",
    "\n",
    "Parameterized quantum circuits, where the gates are defined through tunable parameters, are a fundamental building block of near-term quantum machine learning algorithms. In the literature, depending on the context, parameterized quantum circuits are also called parameterized trial states, variational forms, or ansatzes.\n",
    "\n",
    "Here is an example of a simple parameterized circuit, with two parameterized gates, a single-qubit $z$-rotation gate, with a variable rotation $\\theta$, followed by a two-qubit controlled $z$-rotation gate, with the same variable rotation $\\theta$.\n",
    "\n",
    "We can create the parameterized circuit above using the `QuantumCircuit` and `Parameter` classes. The Parameter class lets us add rotation gates, without having to specify what the angles are yet:"
   ]
  },
  {
   "cell_type": "code",
   "execution_count": null,
   "id": "CF0DRgXi5OSb",
   "metadata": {
    "colab": {
     "base_uri": "https://localhost:8080/"
    },
    "id": "CF0DRgXi5OSb",
    "outputId": "392ee1e7-d344-4a15-9797-7060aa77aa02"
   },
   "outputs": [],
   "source": [
    "!pip install qiskit\n",
    "!pip install qiskit-Aer\n",
    "!pip install matplotlib\n",
    "!pip install pylatexenc"
   ]
  },
  {
   "cell_type": "code",
   "execution_count": null,
   "id": "dbceb54c29973da5",
   "metadata": {
    "ExecuteTime": {
     "end_time": "2023-10-26T00:52:29.676942709Z",
     "start_time": "2023-10-26T00:52:28.532549349Z"
    },
    "colab": {
     "base_uri": "https://localhost:8080/",
     "height": 211
    },
    "id": "dbceb54c29973da5",
    "outputId": "799d35d5-89a7-49b0-cc73-fcdd8bf65f1f"
   },
   "outputs": [],
   "source": [
    "from qiskit.circuit import QuantumCircuit, Parameter\n",
    "theta = Parameter('θ')\n",
    "\n",
    "qc = QuantumCircuit(2)\n",
    "qc.rz(theta, 0)\n",
    "qc.crz(theta, 0, 1)\n",
    "qc.draw(output='mpl')"
   ]
  },
  {
   "cell_type": "markdown",
   "id": "74ae4cba8a71062f",
   "metadata": {
    "id": "74ae4cba8a71062f"
   },
   "source": [
    "As all quantum gates used in a quantum circuit are unitary (A unitary operation is a reversible operation that preserves the norm (i.e. makes sure our probabilities always sum to 1)), a parameterized circuit itself can be described as a unitary operation on $n$ qubits, $U_\\phi$, acting on some initial state $|\\phi_0\\rangle$, often set to $|0\\rangle^{\\otimes n}$. The resulting parameterized quantum state is $ |\\psi_0\\rangle=U_\\theta|\\phi_0\\rangle$ where $\\theta$ is a set of tunable parameters."
   ]
  },
  {
   "cell_type": "markdown",
   "id": "28c7347ea32ee205",
   "metadata": {
    "id": "28c7347ea32ee205"
   },
   "source": [
    "\n",
    "## Parameterized quantum circuit properties\n",
    "\n",
    "How do we choose one parameterized circuit over the other? To use parameterized quantum circuits as a machine learning model, we need them to generalize well. This means that the circuit should be able to generate a significant subset of the states within the output Hilbert space (Hilbert space is what you get when you generalize the 3D space we're used to (called Euclidean space) to as many dimensions as you want. It’s named after David Hilbert.). To avoid being easy to simulate on a classical computer, the circuit should also entangle qubits.\n",
    "\n",
    "A proposed metric for this purpose is called the expressibility and entangling capability to discriminate between different parameterized quantum circuits. We can think of the expressibility of a circuit as the extent to which it can generate states within the Hilbert space, while the entangling capability of a circuit describes its ability to generate entangled states.\n",
    "\n",
    "### Expressibility\n",
    "\n",
    "The expressibility of a parameterized quantum circuit is essentially the coverage of the Hilbert space by the circuit's hypothesis space. Highly expressive parameterized quantum circuits can represent many different unitaries. There are many ways to represent this expressibility. In the [original reference](https://arxiv.org/abs/1905.10876)  the authors quantify it by computing the extent to which the states generated from the circuit deviate from the uniform distribution (If the chance of producing any quantum state is equally probable, we say the states are uniformly distributed.)\n",
    "\n",
    "Let's compare the two following single-qubit circuits to get a sense of what it means for a circuit to be expressible or not, by sampling 2000 output states for each circuit and plotting them on a Bloch sphere.\n",
    "\n",
    "<img alt=\"example1.png\" src=\"https://github.com/osbama/Phys710/blob/master/Lecture%201/example1.png?raw=1\" width=\"1200\"/>"
   ]
  },
  {
   "cell_type": "code",
   "execution_count": null,
   "id": "2593b26609941fe1",
   "metadata": {
    "ExecuteTime": {
     "end_time": "2023-10-26T01:13:20.515425625Z",
     "start_time": "2023-10-26T01:13:05.549419640Z"
    },
    "colab": {
     "base_uri": "https://localhost:8080/",
     "height": 620
    },
    "id": "2593b26609941fe1",
    "outputId": "9fe53104-4a6e-458d-c161-a64e69f6acaa"
   },
   "outputs": [],
   "source": [
    "import numpy as np\n",
    "import matplotlib.pyplot as plt\n",
    "\n",
    "# First, we need to define the circuits:\n",
    "theta_param = Parameter('θ')\n",
    "phi_param = Parameter('Φ')\n",
    "\n",
    "# Circuit A\n",
    "#### Code me\n",
    "# Circuit B\n",
    "#### Code me\n",
    "\n",
    "# Next we uniformly sample the parameter space for the two parameters theta and phi\n",
    "np.random.seed(0)\n",
    "num_param = 1000\n",
    "theta = [2*np.pi*np.random.uniform() for i in range(num_param)]\n",
    "phi = [2*np.pi*np.random.uniform() for i in range(num_param)]\n",
    "\n",
    "# Then we take the parameter value lists, build the state vectors corresponding\n",
    "# to each circuit, and plot them on the Bloch sphere:\n",
    "from qiskit.visualization.bloch import Bloch\n",
    "from qiskit.quantum_info import Statevector\n",
    "\n",
    "def state_to_bloch(state_vec):\n",
    "    # Converts state vectors to points on the Bloch sphere\n",
    "    phi = np.angle(state_vec.data[1])-np.angle(state_vec.data[0])\n",
    "    theta = 2*np.arccos(np.abs(state_vec.data[0]))\n",
    "    return [np.sin(theta)*np.cos(phi),np.sin(theta)*np.sin(phi),np.cos(theta)]\n",
    "\n",
    "# Bloch sphere plot formatting\n",
    "width, height = plt.figaspect(1/2)\n",
    "fig=plt.figure(figsize=(width, height))\n",
    "ax1, ax2 = fig.add_subplot(1, 2, 1, projection='3d'), fig.add_subplot(1, 2, 2, projection='3d')\n",
    "b1,b2 = Bloch(axes=ax1), Bloch(axes=ax2)\n",
    "b1.point_color, b2.point_color = ['tab:blue'],['tab:blue']\n",
    "b1.point_marker, b2.point_marker= ['o'],['o']\n",
    "b1.point_size, b2.point_size=[2],[2]\n",
    "\n",
    "# Calculate state vectors for circuit A and circuit B for each set of sampled parameters\n",
    "# and add to their respective Bloch sphere\n",
    "for i in range(num_param):\n",
    "    state_1=Statevector.from_instruction(qc_A.bind_parameters({theta_param:theta[i]}))\n",
    "    state_2=Statevector.from_instruction(qc_B.bind_parameters({theta_param:theta[i], phi_param:phi[i]}))\n",
    "    b1.add_points(state_to_bloch(state_1))\n",
    "    b2.add_points(state_to_bloch(state_2))\n",
    "\n",
    "b1.show()\n",
    "b2.show()"
   ]
  },
  {
   "cell_type": "markdown",
   "id": "1c777822cd921604",
   "metadata": {
    "id": "1c777822cd921604"
   },
   "source": [
    "For Circuit A, we see output states distributed about the equator of the Bloch sphere. With Circuit B's additional parameterized $z$-rotation gate, we can cover all the Bloch sphere with output states, but the coverage is not uniform; there are concentrations of points on the $+X$ and $-X$ poles of the Bloch sphere.\n",
    "\n",
    "Expressibility is a way to quantify what we just observed for these single-qubit circuits. Circuit A would have a low expressibility score due to the limited set of states it can explore, whereas Circuit B would have a high expressibility score."
   ]
  },
  {
   "cell_type": "markdown",
   "id": "912da51cd70492d6",
   "metadata": {
    "id": "912da51cd70492d6"
   },
   "source": [
    "### Entangling capability\n",
    "\n",
    "Entanglement is a key resource in quantum computing. The Meyer-Wallach measure (A measure of the average entanglement between qubits in the range 0 to 1.) is one of many metrics that measures how entangled a given state is. The Meyer-Wallach measure of an unentangled product state (Here, a product state is a state that can be written as the product of two separate kets, e.g. $|\\psi\\rangle = |a\\rangle \\otimes |b\\rangle) is 0, while the Meyer-Wallach measure of a highly entangled state, such as the Bell state, is 1. The entangling capability of a parameterized quantum circuit can be defined as the average Meyer-Wallach measure for the states it can generate.\n",
    "\n",
    "For example, consider the following multi-qubit parameterized circuits:\n",
    "\n",
    "<img alt=\"example2.png\" src=\"https://github.com/osbama/Phys710/blob/master/Lecture%201/example2.png?raw=1\" width=\"1200\"/>\n",
    "\n",
    "Circuit A has no entangling operations, that is, no two-qubit gates, so it has no entangling capability. Thus, this circuit would produce states that have Meyer-Wallach measures of 0, leading to an averaged value of 0. Circuit B has several two-qubit gates, so it can generate quantum states with some entanglement. Therefore, the average Meyer-Wallach measure would be greater than 0.\n",
    "\n",
    "Using these two parameterized quantum circuit descriptors, expressibility and entangling capability, we can identify circuits that have limited capabilities. We expect that limited circuits are poor candidates for quantum machine learning applications. There is a strong correlation between classification accuracy and expressibility, and a weak correlation between classification accuracy entangling capability.\n"
   ]
  },
  {
   "cell_type": "markdown",
   "id": "c4608ee3017b4691",
   "metadata": {
    "id": "c4608ee3017b4691"
   },
   "source": [
    "### Hardware efficiency\n",
    "\n",
    "In this era of near term quantum computing, where devices have limited qubit connectivity (When building a real quantum computer, depending on how we build it, we might not be able to interact each qubit (e.g. through a CNOT gate) directly. If we can interact two qubits directly, we say they are connected), coherence times (This is the time it takes for a quantum system to stop being 'coherent' with itself, meaning we can't interfere it with itself any more) and gate fidelities, the depth of the circuits we run directly affects the accuracy of our results, since there is limited error correction or mitigation.\n",
    "\n",
    "[This reference](https://arxiv.org/abs/1704.05018) introduces a class of hardware efficient parameterized circuits to accommodate device constraints. The common trait of these circuits is the use of a limited set of quantum gates as well as a particular qubit connection topology. The gate set usually consists of one two-qubit entangling gate and up to three single-qubit gates. The circuit is then constructed from blocks of single-qubit gates and entangling gates, which are applied to multiple or all qubits in parallel. One sequence of a single-qubit and an entangling block is called a layer, and the parameterized circuit generally has multiple layers.\n",
    "\n",
    "Circuit B depicted in the 'Entangling Capability' section is an example of a single layer hardware efficient parameterized circuit."
   ]
  },
  {
   "cell_type": "markdown",
   "id": "149fa97804e0913e",
   "metadata": {
    "id": "149fa97804e0913e"
   },
   "source": [
    "## Parameterized quantum circuits for machine learning\n",
    "\n",
    "In quantum machine learning, parameterized quantum circuits tend to be used for two things:\n",
    "* To encode data, where the parameters are determined by the data being encoded\n",
    "* As a quantum model, where the parameters are determined by an optimization process.\n",
    "\n",
    "Here we will give some examples of how to build parameterized quantum circuits used in the quantum machine learning literature using Qiskit.\n",
    "\n",
    "In [this reference](https://arxiv.org/abs/1804.11326), the authors introduce the following parameterized circuit, used to encode data, which we will study in detail later\n",
    "$$ \\begin{align*}\\mathcal{U}_{\\Phi(\\mathbf{x})}=\\prod_d U_{\\Phi(\\mathbf{x})}H^{\\otimes n},\\ U_{\\Phi(\\mathbf{x})}=\\exp\\left(i\\sum_{S\\subseteq[n]}\\phi_S(\\mathbf{x})\\prod_{k\\in S} P_i\\right),\\end{align*} $$\n",
    "\n",
    "which contains layers of Hadamard gates interleaved with entangling blocks, $U_{\\Phi(\\mathbf{x})}$. This unitary was chosen because it is classically difficult to compute, but tractable on near term hardware. Within the entangling blocks, $U_{\\Phi(\\mathbf{x})}:P_i \\in \\{ I, X, Y, Z \\}$ denotes the Pauli matrices, the index $S$ describes connectivity between different qubits: $S \\in \\{\\binom{n}{k}\\ \\text{combinations},\\ k = 1,... n \\}$, and the data mapping function $\\phi_S(\\mathbf{x})$  is\n",
    "\n",
    "$$\n",
    "\\begin{align*}\\phi_S:\\mathbf{x}\\mapsto \\Bigg\\{\\begin{array}{ll} x_i & \\mbox{if}\\ S=\\{i\\} \\\\ (\\pi-x_i)(\\pi-x_j) & \\mbox{if}\\ S=\\{i,j\\} \\end{array}\\end{align*}\n",
    "$$\n",
    "\n",
    "Specifically, they use $k=2$, $P_0=Z$,$P_1=ZZ$, which in Qiskit is the `ZZFeatureMap` circuit:\n",
    "\n"
   ]
  },
  {
   "cell_type": "code",
   "execution_count": null,
   "id": "a78e3ddb016246bf",
   "metadata": {
    "ExecuteTime": {
     "end_time": "2023-10-26T01:52:39.042851707Z",
     "start_time": "2023-10-26T01:52:38.624848232Z"
    },
    "id": "a78e3ddb016246bf"
   },
   "outputs": [],
   "source": [
    "from qiskit.circuit.library import ZZFeatureMap\n",
    "qc_zz = ZZFeatureMap(3, reps=1, insert_barriers=True)\n",
    "qc_zz.decompose().draw(output='mpl')"
   ]
  },
  {
   "cell_type": "markdown",
   "id": "e3af057e2a32693",
   "metadata": {
    "id": "e3af057e2a32693"
   },
   "source": [
    "the authors also use a hardware efficient circuit as a quantum model, consisting of alternating layers of single-qubit rotation gates, followed by two-qubit gates. In particular, they use $y$-and-$z$-rotation gates, and controlled-$z$ gates, which we can build using the `TwoLocal` circuit:"
   ]
  },
  {
   "cell_type": "code",
   "execution_count": null,
   "id": "a3d56dd8ff559af0",
   "metadata": {
    "ExecuteTime": {
     "end_time": "2023-10-26T01:54:25.337964273Z",
     "start_time": "2023-10-26T01:54:25.026250206Z"
    },
    "id": "a3d56dd8ff559af0"
   },
   "outputs": [],
   "source": [
    "from qiskit.circuit.library import TwoLocal\n",
    "qc_twolocal = TwoLocal(num_qubits=3, reps=2, rotation_blocks=['ry','rz'],\n",
    "                entanglement_blocks='cz', skip_final_rotation_layer=True,\n",
    "                insert_barriers=True)\n",
    "\n",
    "qc_twolocal.decompose().draw(output='mpl')"
   ]
  },
  {
   "cell_type": "markdown",
   "id": "617471a4c7898be6",
   "metadata": {
    "id": "617471a4c7898be6"
   },
   "source": [
    "# Data Encoding\n",
    "\n",
    "Data representation is crucial for the success of machine learning models. For classical machine learning, the problem is how to represent the data numerically, so that it can be best processed by a classical machine learning algorithm.\n",
    "\n",
    "For quantum machine learning, this question is similar, but more fundamental: how to represent and efficiently input the data into a quantum system, so that it can be processed by a quantum machine learning algorithm. This is usually referred to as data encoding, but is also called data embedding or loading.\n",
    "\n",
    "This process is a critical part of quantum machine learning algorithms and directly affects their computational power.\n",
    "\n",
    "## Methods\n",
    "\n",
    "Let's consider a classical dataset $\\mathscr{X}$ consisting of $M$ samples, each with $N$ features (A feature is a property of the things we're trying to learn about that we can assign a number to. If we were learning something about cats, the features might be \"height\" or \"age\" or \"propensity to consume treats\"):\n",
    "\n",
    "$$\n",
    "\\begin{align*}{\\mathscr{X}} = {\\{}x^{(1)},{\\dots},{x^{(m)}},\\dots,x^{(M)}{\\}}\\end{align*}\n",
    "$$\n",
    "\n",
    "\n",
    "\n",
    "where $ x^{(m)}$ is an $N$ dimensional vector for $m=1,\\dots,M. To represent this dataset in a qubit system, we can use various embedding techniques, some of which are briefly explained and implemented below.\n",
    "\n"
   ]
  },
  {
   "cell_type": "markdown",
   "id": "8cfd70499edda75",
   "metadata": {
    "id": "8cfd70499edda75"
   },
   "source": [
    "### Basis encoding\n",
    "\n",
    "Basis encoding associates a classical $N$-bit string with a computational basis state (Also known as Z-basis states, these are the states we measure when we measure in the Z (or 'computational') basis. These are the states with labels like $|00\\rangle$ and $|00110100\\rangle$. IBM systems always measure in the Z-basis.) of a $N$-qubit system. For example, if $x=5$, this can be represented as a 4-bit string as $0101$, and by a 4-qubit system as the quantum state $|0101\\rangle$. More generally, for an $N$-bit string: $x=(b_1,b_2,\\dots,b_n)$ , the corresponding $n$-qubit state is $| x \\rangle = | b_1, b_2, ... , b_N \\rangle $ with $b_n \\in {0,1}$ for $n=1,...,N$.\n",
    "\n",
    "For the classical dataset $\\mathscr{X}$  described above, to use basis encoding, each data point must be a $N$-bit string: $x^{(m)} = (b_1, b_2, ... , b_N)$, which then can be mapped directly to the quantum state $|x^{m}\\rangle = |b_1, b_2, ... , b_N \\rangle$  with $b_n \\in \\{0, 1 \\} $ for $n=1,...,N$ and $m=1,...,M$ . We can represent the entire dataset as superpositions of computational basis states:\n",
    "\n",
    "$$\n",
    "\\begin{align*} | \\mathscr{X} \\rangle = \\frac{1}{\\sqrt{M}}{\\sum_{m=1}^{M}|x^{m} \\rangle \\end{align*}\n",
    "$$\n",
    "\n",
    "In Qiskit, once we calculate what state will encode our dataset, we can use the initialize function to prepare it. For example, the dataset $\\mathscr{X} = \\{x^{(1)}=101, x^{(2)}=111\\}$ is encoded as the state : $|\\mathscr{X}\\rangle = \\frac{1}{\\sqrt{2}}(|101\\rangle+|111\\rangle)$"
   ]
  },
  {
   "cell_type": "code",
   "execution_count": null,
   "id": "729194a53c787f82",
   "metadata": {
    "ExecuteTime": {
     "end_time": "2023-10-26T04:00:01.301475520Z",
     "start_time": "2023-10-26T04:00:00.998140702Z"
    },
    "id": "729194a53c787f82"
   },
   "outputs": [],
   "source": [
    "import math\n",
    "from qiskit import QuantumCircuit\n",
    "\n",
    "desired_state = [\n",
    "    0,\n",
    "    0,\n",
    "    0,\n",
    "    0,\n",
    "    0,\n",
    "    1 / math.sqrt(2),\n",
    "    0,\n",
    "    1 / math.sqrt(2)]\n",
    "\n",
    "qc = QuantumCircuit(3)\n",
    "qc.initialize(desired_state, [0,1,2])\n",
    "qc.decompose().decompose().decompose().decompose().decompose().draw(output='mpl')"
   ]
  },
  {
   "cell_type": "markdown",
   "id": "fd6524eab83eab24",
   "metadata": {
    "id": "fd6524eab83eab24"
   },
   "source": [
    "This example illustrates a couple of disadvantages of basis encoding. While it is simple to understand, the state vectors can become quite sparse, and schemes to implement it are usually not efficient."
   ]
  },
  {
   "cell_type": "markdown",
   "id": "d831297fec1bb1be",
   "metadata": {
    "id": "d831297fec1bb1be"
   },
   "source": [
    "### Amplitude encoding\n",
    "\n",
    "Amplitude encoding encodes data into the amplitudes of a quantum state. It represents a normalised classical $N$-dimensional data point, $x$ , as the amplitudes of a $n$-qubit quantum state, $|\\psi_x\\rangle$:\n",
    "\n",
    "$$\n",
    "\\begin{align*}|\\psi_x\\rangle = \\sum_{i=1}^N x_i |i\\rangle\\end{align*}\n",
    "$$\n",
    "\n",
    "where $N=2^n$ , $x_i$ is the $i^{th}$ element of $x$ and $|i\\rangle$ is the $i^{th}$ computational basis state.\n",
    "\n",
    "To encode the classical dataset $\\mathscr{X}$ described above, we concatenate all M $N$-dimensional data points into one amplitude vector, of length $N\\times M$ :\n",
    "$$\n",
    "\\begin{align*}\\alpha=A_{\\text{norm}}(x_{1}^{(1)},...,x_{N}^{(1)},...,x_{1}^{(m)},...,x_{N}^{(m)},...,x_{1}^{(M)},...,x_{N}^{(M)})\\end{align*}\n",
    "$$\n",
    "where $A_{\\text{norm}}$ is a normalisation constant, such that $|\\alpha|^2 = 1$ . The dataset can now be represented in the computational basis as:\n",
    "$\\begin{align*}|\\mathscr{X}\\rangle = \\sum_{i=1}^N \\alpha_i |i\\rangle\\end{align*}$\n",
    "where $\\alpha_i$ are elements of the amplitude vector and are the computational basis states. The number of amplitudes to be encoded is $N\\times M$. As a system of $n$ qubits provides $2^n$ amplitudes, amplitude embedding requires $n \\ge \\mathrm{log}_2(NM)$ qubits.\n",
    "\n",
    "As an example, let's encode the dataset $\\mathscr{X}= \\{x^{(1)}=(1.5,0), x^{(2)}=(-2,3)\\}$ using amplitude encoding. Concatenating both data points and normalizing the resulting vector, we get:\n",
    "$$\n",
    "\\begin{align*}\\alpha = \\frac{1}{\\sqrt{15.25}}(1.5,0,-2,3)\\end{align*}\n",
    "$$\n",
    "and the resulting 2-qubit quantum state would be:\n",
    "$$\n",
    "\\begin{align*}|\\mathscr{X}\\rangle = \\frac{1}{\\sqrt{15.25}}(1.5|00\\rangle-2|10\\rangle+3|11\\rangle)\\end{align*}\n",
    "$$\n",
    "\n",
    "In the example above, the total number of elements of the amplitude vector, $N\\times M$, is a power of 2. When $N\\times M$ is not a power of 2, we can simply choose a value for $n$ such that $2^n\\geq MN$ and pad the amplitude vector with uninformative constants.\n",
    "\n",
    "Like in basis encoding, once we calculate what state will encode our dataset, in Qiskit we can use the initialize function to prepare it:"
   ]
  },
  {
   "cell_type": "code",
   "execution_count": null,
   "id": "6c84c371b2260a50",
   "metadata": {
    "ExecuteTime": {
     "end_time": "2023-10-26T04:13:37.717664507Z",
     "start_time": "2023-10-26T04:13:37.523657081Z"
    },
    "id": "6c84c371b2260a50"
   },
   "outputs": [],
   "source": [
    "desired_state = [\n",
    "    1 / math.sqrt(15.25) * 1.5,\n",
    "    0,\n",
    "    1 / math.sqrt(15.25) * -2,\n",
    "    1 / math.sqrt(15.25) * 3]\n",
    "\n",
    "qc = QuantumCircuit(2)\n",
    "qc.initialize(desired_state, [0,1])\n",
    "\n",
    "qc.decompose().decompose().decompose().decompose().decompose().draw(output='mpl')"
   ]
  },
  {
   "cell_type": "markdown",
   "id": "c8e5d0e95f9c7ff6",
   "metadata": {
    "id": "c8e5d0e95f9c7ff6"
   },
   "source": [
    "The advantage of amplitude encoding is that it only requires $\\mathrm{log}_2(NM)$ qubits to encode. However, subsequent algorithms must operate on the amplitudes of a quantum state, and methods to prepare and measure the quantum states tend not to be efficient."
   ]
  },
  {
   "cell_type": "markdown",
   "id": "39d9cfec5e63b336",
   "metadata": {
    "id": "39d9cfec5e63b336"
   },
   "source": [
    "### Angle encoding\n",
    "\n",
    "Angle encoding encodes $N$ features into the rotation angles of $n$ qubits, where $N \\le n$. For example, the data point $x = (x_1,...,x_N)$ can be encoded as:\n",
    "$$\n",
    "\\begin{align*}{|x\\rangle} = {\\bigotimes^N_{i=1}} \\cos(x_i)|0\\rangle + \\sin(x_i)|1\\rangle\\end{align*}\n",
    "$$\n",
    "This is different from the previous two encoding methods, as it only encodes one data point at a time, rather than a whole dataset. It does, however, only require N qubits or less and a constant depth quantum circuit, making it amenable to current quantum hardware.\n",
    "\n",
    "We can specify angle encoding as a unitary (A unitary operation is a reversible operation that preserves the norm (i.e. makes sure our probabilities always sum to 1)):\n",
    "$$\n",
    "\\begin{align*} S_{x_j} = {\\bigotimes_{i=1}^N} U(x_j^{(i)}) \\end{align*}\n",
    "$$\n",
    "\n",
    "where:\n",
    "$$\n",
    "\\begin{align*}U(x_j^{(i)}) = \\begin{bmatrix} \\cos(x_j^{(i)}) & -\\sin(x_j^{(i)}) \\\\ \\sin(x_j^{(i)}) & \\cos(x_j^{(i)}) \\\\ \\end{bmatrix}\\end{align*}\n",
    "$$\n",
    "\n",
    "Remembering that a single-qubit rotation around the $Y$-axis is:\n",
    "$$\n",
    "\\begin{align*}U(x_j^{(i)}) = \\begin{bmatrix} \\cos(x_j^{(i)}) & -\\sin(x_j^{(i)}) \\\\ \\sin(x_j^{(i)}) & \\cos(x_j^{(i)}) \\\\ \\end{bmatrix}\\end{align*}\n",
    "$$\n",
    "We note that $U(x_j^{(i)}) = RY(2x_j^{(i)})$, and as an example, encode the data point using Qiskit:"
   ]
  },
  {
   "cell_type": "code",
   "execution_count": null,
   "id": "e4acd20323f2a340",
   "metadata": {
    "ExecuteTime": {
     "end_time": "2023-10-26T04:21:14.807535581Z",
     "start_time": "2023-10-26T04:21:14.710100348Z"
    },
    "id": "e4acd20323f2a340"
   },
   "outputs": [],
   "source": [
    "qc = QuantumCircuit(3)\n",
    "qc.ry(0, 0)\n",
    "qc.ry(2*math.pi/4, 1)\n",
    "qc.ry(2*math.pi/2, 2)\n",
    "qc.draw(output='mpl')"
   ]
  },
  {
   "cell_type": "markdown",
   "id": "85990b2135f178fb",
   "metadata": {
    "id": "85990b2135f178fb"
   },
   "source": [
    "Dense angle encoding is a slight generalization of angle encoding, that encodes two features per qubit using the relative phase, where the data point $x = (x_1,...,x_N)$ can be encoded as:\n",
    "$$\n",
    "\\begin{align*}|x\\rangle = {\\bigotimes_{i=1}^{N/2}} \\cos(x_{2i-1})|0\\rangle + e^{i x_{2i}}\\sin(x_{2i-1})|1\\rangle\\end{align*}\n",
    "$$\n",
    "Although the angle and dense angle encoding use sinusoids and exponentials, there is nothing special about these functions. We can easily abstract these to a general class of qubit encodings that use arbitrary functions, or define the encodings as arbitrary unitaries, implemented as parameterized quantum circuits."
   ]
  },
  {
   "cell_type": "markdown",
   "id": "3e2b0f167f94ac0c",
   "metadata": {
    "id": "3e2b0f167f94ac0c"
   },
   "source": [
    "### Arbitrary encoding\n",
    "\n",
    "Arbitrary encoding encodes $N$ features as rotations on $N$ parameterized gates on $n$ qubits, where $n\\leq N$ . Like angle encoding, it only encodes one data point at a time, rather than a whole dataset. It also uses a constant depth quantum circuit and $n\\leq N$ qubits, meaning it can be run on current quantum hardware.\n",
    "\n",
    "For example, to use the Qiskit `EfficientSU2` circuit to encode 12 features, would only use 3 qubits:"
   ]
  },
  {
   "cell_type": "code",
   "execution_count": null,
   "id": "42f1d09115f45251",
   "metadata": {
    "ExecuteTime": {
     "end_time": "2023-10-26T04:25:29.517946575Z",
     "start_time": "2023-10-26T04:25:29.296298263Z"
    },
    "id": "42f1d09115f45251"
   },
   "outputs": [],
   "source": [
    "from qiskit.circuit.library import EfficientSU2\n",
    "circuit = EfficientSU2(num_qubits=3, reps=1, insert_barriers=True)\n",
    "circuit.decompose().draw(output='mpl')"
   ]
  },
  {
   "cell_type": "markdown",
   "id": "1fd3f105a59749b8",
   "metadata": {
    "id": "1fd3f105a59749b8"
   },
   "source": [
    "Here we encode the data point with 12 features, $x = [0.1,0.2,0.3,0.4,0.5,0.6,0.7,0.8,0.9,1.0,1.1,1.2]$ using each of the parameterized gates to encode a different feature."
   ]
  },
  {
   "cell_type": "code",
   "execution_count": null,
   "id": "6ad1dd78138c660a",
   "metadata": {
    "ExecuteTime": {
     "end_time": "2023-10-26T04:26:43.013474689Z",
     "start_time": "2023-10-26T04:26:42.835101937Z"
    },
    "id": "6ad1dd78138c660a"
   },
   "outputs": [],
   "source": [
    "x = [0.1, 0.2, 0.3, 0.4, 0.5, 0.6, 0.7, 0.8, 0.9, 1.0, 1.1, 1.2]\n",
    "encode = circuit.assign_parameters(x)\n",
    "encode.decompose().draw(output='mpl')"
   ]
  },
  {
   "cell_type": "markdown",
   "id": "2882915b58dfd969",
   "metadata": {
    "id": "2882915b58dfd969"
   },
   "source": [
    "The Qiskit `ZZFeatureMap` circuit with 3 qubits, only encodes a data point of 3 features, despite having 6 parameterized gates:"
   ]
  },
  {
   "cell_type": "code",
   "execution_count": null,
   "id": "3a653c2dc00de84f",
   "metadata": {
    "ExecuteTime": {
     "end_time": "2023-10-26T04:27:33.503182552Z",
     "start_time": "2023-10-26T04:27:33.097642946Z"
    },
    "id": "3a653c2dc00de84f"
   },
   "outputs": [],
   "source": [
    "from qiskit.circuit.library import ZZFeatureMap\n",
    "circuit = ZZFeatureMap(3, reps=1, insert_barriers=True)\n",
    "circuit.decompose().draw(output='mpl')"
   ]
  },
  {
   "cell_type": "code",
   "execution_count": null,
   "id": "83491581f43b3e02",
   "metadata": {
    "ExecuteTime": {
     "end_time": "2023-10-26T04:28:08.623591889Z",
     "start_time": "2023-10-26T04:28:08.409121708Z"
    },
    "id": "83491581f43b3e02"
   },
   "outputs": [],
   "source": [
    "x = [0.1, 0.2, 0.3]\n",
    "encode = circuit.assign_parameters(x)\n",
    "encode.decompose().draw(output='mpl')"
   ]
  }
 ],
 "metadata": {
  "celltoolbar": "Tags",
  "colab": {
   "provenance": []
  },
  "kernelspec": {
   "display_name": "Python 3 (ipykernel)",
   "language": "python",
   "name": "python3"
  },
  "language_info": {
   "codemirror_mode": {
    "name": "ipython",
    "version": 3
   },
   "file_extension": ".py",
   "mimetype": "text/x-python",
   "name": "python",
   "nbconvert_exporter": "python",
   "pygments_lexer": "ipython3",
   "version": "3.8.18"
  },
  "toc": {
   "base_numbering": 1,
   "nav_menu": {},
   "number_sections": true,
   "sideBar": true,
   "skip_h1_title": false,
   "title_cell": "Table of Contents",
   "title_sidebar": "Contents",
   "toc_cell": false,
   "toc_position": {},
   "toc_section_display": true,
   "toc_window_display": false
  },
  "vscode": {
   "interpreter": {
    "hash": "e2eee1ec3b7b75618be3bcd737c6b000914c302a788483aeea47c6724501a27e"
   }
  }
 },
 "nbformat": 4,
 "nbformat_minor": 5
}
